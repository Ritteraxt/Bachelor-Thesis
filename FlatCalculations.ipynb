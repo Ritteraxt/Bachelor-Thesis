{
 "cells": [
  {
   "cell_type": "code",
   "execution_count": 2,
   "metadata": {},
   "outputs": [],
   "source": [
    "import sys, platform, os\n",
    "import matplotlib\n",
    "from matplotlib import pyplot as plt\n",
    "import numpy as np\n",
    "import scipy as sp\n",
    "import matplotlib.patches as mpatches\n",
    "\n",
    "import sympy\n",
    "import random\n",
    "\n",
    "camb_path = os.path.realpath(os.path.join(os.getcwd(),'..'))\n",
    "sys.path.insert(0,camb_path)\n",
    "\n",
    "import camb\n",
    "from camb import model, initialpower\n",
    "\n",
    "\n",
    "#Set up a new set of parameters for CAMB\n",
    "pars = camb.CAMBparams()\n",
    "#This function sets up CosmoMC-like settings, with one massive neutrino and helium set using BBN consistency\n",
    "pars.set_cosmology(H0=67.5, ombh2=0.022, omch2=0.122, mnu=0.06, omk=0, tau=0.06)\n",
    "pars.InitPower.set_params(As=2e-9, ns=0.965, r=0)\n",
    "pars.set_for_lmax(2500);\n",
    "pars.set_matter_power( kmax=2.0)\n",
    "\n",
    "#pars.set_accuracy(AccuracyBoost=1)\n",
    "#data = camb.get_transfer_functions(pars)\n",
    "#transfer = data.get_cmb_transfer_data()\n",
    "#\n",
    "#\n",
    "#plt.semilogx(transfer.q,transfer.delta_p_l_k[0,7,:],\"r\") #Null steht fuer ENERGIE Transfer func\n",
    "reduced_h = 0.675\n",
    "pars.set_accuracy(AccuracyBoost=2,lSampleBoost=100)\n",
    "data = camb.get_transfer_functions(pars)\n",
    "transfer = data.get_cmb_transfer_data()"
   ]
  },
  {
   "cell_type": "code",
   "execution_count": 104,
   "metadata": {
    "collapsed": true
   },
   "outputs": [],
   "source": [
    "As = 2.2e-9\n",
    "ns = 0.986\n",
    "k0 = 0.015\n",
    "\n",
    "\n",
    "def Bessel(x,l):\n",
    "    return sp.special.spherical_jn(l,x)\n",
    "\n",
    "def S_1(k1):\n",
    "    \n",
    "    return np.exp(20*k1)\n",
    "\n",
    "def S_2(k2):\n",
    "    \n",
    "    return np.exp(20*k2)\n",
    "\n",
    "def S_3(k3):\n",
    "    \n",
    "    return np.exp(20*k3)\n"
   ]
  },
  {
   "cell_type": "code",
   "execution_count": 85,
   "metadata": {
    "collapsed": true
   },
   "outputs": [],
   "source": [
    "def Int(x,l_index,l_index_index):\n",
    "    \n",
    "    Stepwidth = transfer.q[1:]-transfer.q[:-1]\n",
    "    Delta = transfer.delta_p_l_k[0,l_index,:][:-1]\n",
    "    \n",
    "    if(l_index_index == 1):\n",
    "        Svals = S_1(transfer.q[:-1])\n",
    "    if(l_index_index == 2):\n",
    "        Svals = S_2(transfer.q[:-1])\n",
    "    if(l_index_index == 3):\n",
    "        Svals = S_3(transfer.q[:-1])\n",
    "        \n",
    "    Del_Step = Stepwidth * Delta * Svals\n",
    "    j_l = Bessel(np.tensordot(transfer.q[:-1],x,0),transfer.l[l_index])\n",
    "    Integral = Del_Step.dot(j_l)\n",
    "    \n",
    "    return Integral\n"
   ]
  },
  {
   "cell_type": "code",
   "execution_count": 86,
   "metadata": {
    "collapsed": true
   },
   "outputs": [],
   "source": [
    "def FatInt(l1_index,x_sample,l2_index = 0,l3_index = 0,PlotIntegrand = False, UseSameInt = False):\n",
    "    \n",
    "    #If S happens to factor into f(k1)*f(k2)*f(k3), one can set UnseSameInt = True, if all ls are the same.\n",
    "    \n",
    "    if(l2_index == 0):\n",
    "        l2_index = l1_index\n",
    "        l3_index = l1_index\n",
    "    \n",
    "    Norming = (2./np.pi)**3\n",
    "    \n",
    "    Stepwidth = x_sample[1:]-x_sample[:-1]\n",
    "    x_squared_Stepwidth = x_sample[:-1]**2*Stepwidth\n",
    "    \n",
    "    if(UseSameInt == False):\n",
    "\n",
    "        Integralvalue = x_squared_Stepwidth.dot((Int(x_sample,l1_index,1)*Int(x_sample,l2_index,2)*Int(x_sample,l3_index,3))[:-1])\n",
    "        if(PlotIntegrand == True):\n",
    "\n",
    "            #print(\"FOLLOWING PLOT: L = {}\".format(transfer.l[l1_index]))\n",
    "            plt.plot(x_sample,x_sample**2*Int(x_sample,l1_index,1)**3)\n",
    "            plt.show()\n",
    "        return Integralvalue*Norming\n",
    "    \n",
    "    if(UseSameInt == True and l1_index == l2_index == l3_index):\n",
    "\n",
    "        Integralvalue = x_squared_Stepwidth.dot(Int(x_sample,l1_index,1)[:-1]**3)\n",
    "        if(PlotIntegrand == True):\n",
    "\n",
    "            #print(\"FOLLOWING PLOT: L = {}\".format(transfer.l[l1_index]))\n",
    "            plt.plot(x_sample,x_sample**2*Int(x_sample,l1_index,1)**3)\n",
    "            plt.show()\n",
    "        return Integralvalue*Norming\n",
    "        \n",
    "        \n",
    "    else:\n",
    "        print(\"THE L ARE NOT THE SAME; MAN\")\n",
    "        \n",
    "        "
   ]
  },
  {
   "cell_type": "code",
   "execution_count": 87,
   "metadata": {
    "collapsed": true
   },
   "outputs": [],
   "source": [
    "def getx(l_index):\n",
    "    l = transfer.l[l_index]\n",
    "    \n",
    "    if(0<= l <= 5):\n",
    "        return np.linspace(0,30000,800)\n",
    "    if(5< l <= 10):\n",
    "        return np.linspace(7000,20000,800)\n",
    "    if(10< l <= 30):\n",
    "        return np.linspace(12000,17000,400)\n",
    "    if(30< l <= 70):\n",
    "        return np.linspace(12500,15000,400)\n",
    "    if(70< l <= 170):\n",
    "        return np.linspace(12500,15000,400)\n",
    "    if(170< l <= 220):\n",
    "        return np.linspace(13300,14500,400)\n",
    "    if(220< l <= 269):\n",
    "        return np.linspace(13300,14100,400)\n",
    "    if(269<l < 320):\n",
    "        return np.linspace(13400,14000,400)\n",
    "    if(320 <l < 360):\n",
    "        return np.linspace(13400,14000,400)\n",
    "    if(360 <l < 440):\n",
    "        return np.linspace(13650,14000,400)\n",
    "    if(440 <l < 500):\n",
    "        return np.linspace(13600,14000,400)\n",
    "    else:\n",
    "        return np.linspace(13600,14000,400)\n",
    "    "
   ]
  },
  {
   "cell_type": "code",
   "execution_count": 89,
   "metadata": {
    "collapsed": true
   },
   "outputs": [],
   "source": [
    "def getx_more(l_index):\n",
    "    l = transfer.l[l_index]\n",
    "    \n",
    "    if(0<= l <= 5):\n",
    "        return np.linspace(0,30000,800)\n",
    "    if(5< l <= 10):\n",
    "        return np.linspace(7000,20000,800)\n",
    "    if(10< l <= 30):\n",
    "        return np.linspace(12000,17000,200)\n",
    "    if(30< l <= 70):\n",
    "        return np.linspace(12500,15000,200)\n",
    "    if(70< l <= 170):\n",
    "        return np.linspace(12500,15000,200)\n",
    "    if(170< l <= 220):\n",
    "        return np.linspace(13300,14500,200)\n",
    "    if(220< l <= 269):\n",
    "        return np.linspace(13300,14100,200)\n",
    "    if(269<l < 320):\n",
    "        return np.linspace(13400,14000,200)\n",
    "    if(320 <l < 360):\n",
    "        return np.linspace(13400,14000,200)\n",
    "    if(360 <l < 440):\n",
    "        return np.linspace(13300,14000,200)\n",
    "    if(440 <l < 500):\n",
    "        return np.linspace(13300,14000,200)\n",
    "    else:\n",
    "        return np.linspace(13600,14000,200)\n",
    "    "
   ]
  },
  {
   "cell_type": "code",
   "execution_count": 112,
   "metadata": {},
   "outputs": [
    {
     "data": {
      "image/png": "[encoded data removed]",
      "text/plain": [
       "<matplotlib.figure.Figure at 0x1fd17b0abe0>"
      ]
     },
     "metadata": {},
     "output_type": "display_data"
    }
   ],
   "source": [
    "plt.plot(Reduced_L_List,np.array(IntArray))\n",
    "\n",
    "plt.show()"
   ]
  },
  {
   "cell_type": "code",
   "execution_count": 106,
   "metadata": {},
   "outputs": [
    {
     "name": "stdout",
     "output_type": "stream",
     "text": [
      "0\n",
      "5\n",
      "10\n",
      "15\n",
      "20\n",
      "25\n",
      "30\n",
      "35\n",
      "40\n",
      "45\n",
      "50\n",
      "55\n",
      "60\n",
      "65\n",
      "70\n",
      "75\n",
      "80\n",
      "85\n",
      "90\n",
      "95\n",
      "100\n",
      "105\n",
      "110\n",
      "115\n",
      "120\n",
      "125\n",
      "130\n",
      "135\n",
      "140\n",
      "145\n",
      "150\n",
      "155\n",
      "160\n",
      "165\n",
      "170\n",
      "175\n",
      "180\n",
      "185\n",
      "190\n",
      "195\n",
      "200\n",
      "205\n",
      "210\n",
      "215\n",
      "220\n",
      "225\n",
      "230\n",
      "235\n",
      "240\n",
      "245\n",
      "250\n",
      "255\n",
      "260\n",
      "265\n",
      "270\n",
      "275\n",
      "280\n",
      "285\n",
      "290\n",
      "295\n",
      "300\n",
      "305\n",
      "310\n",
      "315\n",
      "320\n",
      "325\n",
      "330\n",
      "335\n",
      "340\n",
      "345\n",
      "350\n",
      "355\n",
      "360\n",
      "365\n",
      "370\n",
      "375\n",
      "380\n",
      "385\n",
      "390\n",
      "395\n",
      "400\n",
      "405\n",
      "410\n",
      "415\n",
      "420\n",
      "425\n",
      "430\n",
      "435\n",
      "440\n",
      "445\n",
      "450\n",
      "455\n",
      "460\n",
      "465\n",
      "470\n",
      "475\n",
      "480\n",
      "485\n",
      "490\n",
      "495\n",
      "508\n",
      "558\n",
      "608\n",
      "658\n",
      "708\n",
      "778\n",
      "838\n",
      "913\n",
      "1068\n",
      "1318\n"
     ]
    }
   ],
   "source": [
    "IntArray = []\n",
    "Reduced_L_List = l_list[::5]\n",
    "for l_index in Reduced_L_List:\n",
    "    print(l_index)\n",
    "    IntArray.append(FatInt(l_index,getx_more(l_index),UseSameInt=True)/blll_const(transfer.l[l_index]))"
   ]
  },
  {
   "cell_type": "code",
   "execution_count": 110,
   "metadata": {},
   "outputs": [
    {
     "data": {
      "image/png": "[encoded data removed]",
      "text/plain": [
       "<matplotlib.figure.Figure at 0x1fca8287ac8>"
      ]
     },
     "metadata": {},
     "output_type": "display_data"
    },
    {
     "data": {
      "text/plain": [
       "14.532475319375683"
      ]
     },
     "execution_count": 110,
     "metadata": {},
     "output_type": "execute_result"
    }
   ],
   "source": [
    "l_index = 800\n",
    "FatInt(l_index,getx_more(l_index),UseSameInt=True,PlotIntegrand = True)/blll_const(transfer.l[l_index])"
   ]
  },
  {
   "cell_type": "code",
   "execution_count": 51,
   "metadata": {},
   "outputs": [],
   "source": [
    "x_sample = np.linspace(12000,17000,400)\n",
    "x1,y1 = FatInt(l1,x_sample,PlotIntegrand = True)\n",
    "x2,y2 = FatInt(l2,x_sample,PlotIntegrand = True)\n",
    "x3,y3 = FatInt(l3,x_sample,PlotIntegrand = True)\n",
    "#x4,y4 = FatInt(20,x_sample,PlotIntegrand = True)"
   ]
  },
  {
   "cell_type": "code",
   "execution_count": 56,
   "metadata": {},
   "outputs": [
    {
     "data": {
      "image/png": "[encoded data removed]",
      "text/plain": [
       "<matplotlib.figure.Figure at 0x1fd17a60908>"
      ]
     },
     "metadata": {},
     "output_type": "display_data"
    }
   ],
   "source": [
    "\n",
    "\n",
    "l1 = 20\n",
    "l2 = 60\n",
    "l3 = 100\n",
    "\n",
    "l_list = np.load(\"l_list.npy\")\n",
    "x = getx(l_index)\n",
    "x = np.linspace(0,20000,400)\n",
    "#plt.text(2500,-1*10**-12,r\"$\\ell$ = 60\",fontsize = 20)\n",
    "plt.xlabel(\"x\", fontsize = 14)\n",
    "plt.ylabel(r\"Integrand(x)/$b_{\\ell\\ell\\ell}^{flat}$\",fontsize = 14)\n",
    "#IntVals = []\n",
    "l_index = 60\n",
    "#plt.plot(x4,y4)\n",
    "plt.plot(x3,y3/blll_const(transfer.l[l3]),\"C2\")\n",
    "plt.plot(x2,y2/blll_const(transfer.l[l2]),\"C1\")\n",
    "plt.plot(x1,y1/blll_const(transfer.l[l1]),\"C0\")\n",
    "Ora = mpatches.Patch(color = \"C1\",label = r\"$\\ell$ = {}\".format(l2))\n",
    "Grun = mpatches.Patch(color = \"green\",label = r\"$\\ell$ = {}\".format(l3))\n",
    "Blue = mpatches.Patch(color = \"blue\",label = r\"$\\ell$ = {}\".format(l1))\n",
    "\n",
    "plt.legend(handles =  [Blue,Ora,Grun],fontsize = 14)\n",
    "\n",
    "###plt.savefig(\"IntegrandsFactorized.pdf\",format = \"pdf\")\n",
    "plt.show()"
   ]
  },
  {
   "cell_type": "code",
   "execution_count": 56,
   "metadata": {
    "collapsed": true
   },
   "outputs": [],
   "source": [
    "def blll_const(l1,l2= 0 ,l3 = 0):\n",
    "    \n",
    "    if(l2 == 0):\n",
    "        l2 = l1\n",
    "        l3 = l1\n",
    "    \n",
    "    return 1/27*1/(2*l1+1)*1/(2*l2+1)*1/(2*l3+1)*(1/((l1+l2+l3)+3)+1/(l1+l2+l3))\n"
   ]
  },
  {
   "cell_type": "code",
   "execution_count": 97,
   "metadata": {
    "collapsed": true
   },
   "outputs": [],
   "source": [
    "np.save(\"Flat_blll.npy\",IntVals3)"
   ]
  },
  {
   "cell_type": "code",
   "execution_count": 96,
   "metadata": {},
   "outputs": [
    {
     "data": {
      "image/png": "[encoded data removed]",
      "text/plain": [
       "<matplotlib.figure.Figure at 0x18dede7ecf8>"
      ]
     },
     "metadata": {},
     "output_type": "display_data"
    }
   ],
   "source": [
    "b_lll_Flat = []\n",
    "for i in range(len(l_list)):\n",
    "    b_lll_Flat.append(IntVals3[i]/blll_const(transfer.l[l_list[i]]))\n",
    "\n",
    "b_lll_Flat[269] = (b_lll_Flat[270]+b_lll_Flat[268])/2\n",
    "plt.plot(transfer.l[l_list], b_lll_Flat)\n",
    "\n",
    "plt.show()"
   ]
  },
  {
   "cell_type": "code",
   "execution_count": 43,
   "metadata": {
    "collapsed": true
   },
   "outputs": [],
   "source": [
    "def blll_const(l1,l2= 0 ,l3 = 0):\n",
    "    \n",
    "    if(l2 == 0):\n",
    "        l2 = l1\n",
    "        l3 = l1\n",
    "    \n",
    "    return 1/27*1/(2*l1+1)*1/(2*l2+1)*1/(2*l3+1)*(1/((l1+l2+l3)+3)+1/(l1+l2+l3))\n"
   ]
  },
  {
   "cell_type": "code",
   "execution_count": null,
   "metadata": {
    "collapsed": true
   },
   "outputs": [],
   "source": [
    "\n",
    "\n",
    "\n",
    "\n",
    "\n",
    "\n",
    "\n",
    "\n",
    "\n",
    "\n",
    "\n",
    "\n",
    "\n",
    "\n",
    "\n",
    "\n",
    "\n",
    "\n",
    "\n",
    "\n",
    "\n",
    "\n",
    "\n",
    "\n",
    "\n",
    "\n",
    "\n",
    "\n",
    "\n"
   ]
  }
 ],
 "metadata": {
  "kernelspec": {
   "display_name": "Python 3",
   "language": "python",
   "name": "python3"
  },
  "language_info": {
   "codemirror_mode": {
    "name": "ipython",
    "version": 3
   },
   "file_extension": ".py",
   "mimetype": "text/x-python",
   "name": "python",
   "nbconvert_exporter": "python",
   "pygments_lexer": "ipython3",
   "version": "3.6.1"
  }
 },
 "nbformat": 4,
 "nbformat_minor": 2
}
