{
 "cells": [
  {
   "cell_type": "code",
   "execution_count": 2,
   "metadata": {
    "collapsed": true
   },
   "outputs": [],
   "source": [
    "import sys, platform, os\n",
    "import matplotlib\n",
    "from matplotlib import pyplot as plt\n",
    "import numpy as np\n",
    "import scipy as sp\n",
    "import matplotlib.patches as mpatches\n",
    "\n",
    "import sympy\n",
    "import random\n",
    "\n",
    "camb_path = os.path.realpath(os.path.join(os.getcwd(),'..'))\n",
    "sys.path.insert(0,camb_path)\n",
    "\n",
    "import camb\n",
    "from camb import model, initialpower\n",
    "\n",
    "\n",
    "#Set up a new set of parameters for CAMB\n",
    "pars = camb.CAMBparams()\n",
    "#This function sets up CosmoMC-like settings, with one massive neutrino and helium set using BBN consistency\n",
    "pars.set_cosmology(H0=67.5, ombh2=0.022, omch2=0.122, mnu=0.06, omk=0, tau=0.06)\n",
    "pars.InitPower.set_params(As=2e-9, ns=0.965, r=0)\n",
    "pars.set_for_lmax(2500);\n",
    "pars.set_matter_power( kmax=2.0)\n",
    "\n",
    "pars.set_accuracy(AccuracyBoost=2,lSampleBoost=100)\n",
    "data = camb.get_transfer_functions(pars)\n",
    "transfer = data.get_cmb_transfer_data()"
   ]
  },
  {
   "cell_type": "code",
   "execution_count": 3,
   "metadata": {
    "collapsed": true
   },
   "outputs": [],
   "source": [
    "def Bessel(x,l):\n",
    "    return sp.special.spherical_jn(l,x)\n",
    "\n",
    "\n",
    "#If S is separable S = S_1*S_2*S_3, please plug in the functions here. \n",
    "def S_1(k1):\n",
    "    \n",
    "    return 1\n",
    "\n",
    "def S_2(k2):\n",
    "    \n",
    "    return 1\n",
    "\n",
    "def S_3(k3):\n",
    "    \n",
    "    return 1\n"
   ]
  },
  {
   "cell_type": "code",
   "execution_count": 4,
   "metadata": {
    "collapsed": true
   },
   "outputs": [],
   "source": [
    "def Int(x,l_index,l_index_index):\n",
    "    \n",
    "    Stepwidth = transfer.q[1:]-transfer.q[:-1]\n",
    "    Delta = transfer.delta_p_l_k[0,l_index,:][:-1]\n",
    "    \n",
    "    if(l_index_index == 1):\n",
    "        Svals = S_1(transfer.q[:-1])\n",
    "    if(l_index_index == 2):\n",
    "        Svals = S_2(transfer.q[:-1])\n",
    "    if(l_index_index == 3):\n",
    "        Svals = S_3(transfer.q[:-1])\n",
    "        \n",
    "    Del_Step = Stepwidth * Delta * Svals\n",
    "    j_l = Bessel(np.tensordot(transfer.q[:-1],x,0),transfer.l[l_index])\n",
    "    Integral = Del_Step.dot(j_l)\n",
    "    \n",
    "    return Integral\n"
   ]
  },
  {
   "cell_type": "code",
   "execution_count": 5,
   "metadata": {
    "collapsed": true
   },
   "outputs": [],
   "source": [
    "def FatInt(l1_index,x_sample,l2_index = 0,l3_index = 0,PlotIntegrand = False, UseSameInt = False):\n",
    "    \n",
    "    #If S happens to factor into S = f(k1)*f(k2)*f(k3), one can set UnseSameInt = True, if all ls are the same.\n",
    "    #This fastens up calculations by -roughly- factor 3.\n",
    "    \n",
    "    if(l2_index == 0):\n",
    "        l2_index = l1_index\n",
    "        l3_index = l1_index\n",
    "    \n",
    "    Norming = (2./np.pi)**3\n",
    "    \n",
    "    Stepwidth = x_sample[1:]-x_sample[:-1]\n",
    "    x_squared_Stepwidth = x_sample[:-1]**2*Stepwidth\n",
    "    \n",
    "    if(UseSameInt == False):\n",
    "\n",
    "        Integralvalue = x_squared_Stepwidth.dot((Int(x_sample,l1_index,1)*Int(x_sample,l2_index,2)*Int(x_sample,l3_index,3))[:-1])\n",
    "        if(PlotIntegrand == True):\n",
    "\n",
    "\n",
    "            plt.plot(x_sample,x_sample**2*Int(x_sample,l1_index,1)**3)\n",
    "            plt.show()\n",
    "        return Integralvalue*Norming\n",
    "    \n",
    "    if(UseSameInt == True and l1_index == l2_index == l3_index):\n",
    "\n",
    "        Integralvalue = x_squared_Stepwidth.dot(Int(x_sample,l1_index,1)[:-1]**3)\n",
    "        if(PlotIntegrand == True):\n",
    "\n",
    "            plt.plot(x_sample,x_sample**2*Int(x_sample,l1_index,1)**3)\n",
    "            plt.show()\n",
    "            \n",
    "        return Integralvalue*Norming\n",
    "        \n",
    "        \n",
    "    else:\n",
    "        print(\"THE L ARE NOT THE SAME; MAN\")\n",
    "        \n",
    "        "
   ]
  },
  {
   "cell_type": "code",
   "execution_count": 6,
   "metadata": {
    "collapsed": true
   },
   "outputs": [],
   "source": [
    "def getx(l_index):\n",
    "    l = transfer.l[l_index]\n",
    "    \n",
    "    if(0<= l <= 5):\n",
    "        return np.linspace(0,30000,800)\n",
    "    if(5< l <= 10):\n",
    "        return np.linspace(7000,20000,800)\n",
    "    if(10< l <= 30):\n",
    "        return np.linspace(12000,17000,400)\n",
    "    if(30< l <= 70):\n",
    "        return np.linspace(12500,15000,400)\n",
    "    if(70< l <= 170):\n",
    "        return np.linspace(12500,15000,400)\n",
    "    if(170< l <= 220):\n",
    "        return np.linspace(13300,14500,400)\n",
    "    if(220< l <= 269):\n",
    "        return np.linspace(13300,14100,400)\n",
    "    if(269<l < 320):\n",
    "        return np.linspace(13400,14000,400)\n",
    "    if(320 <l < 360):\n",
    "        return np.linspace(13400,14000,400)\n",
    "    if(360 <l < 440):\n",
    "        return np.linspace(13650,14000,400)\n",
    "    if(440 <l < 500):\n",
    "        return np.linspace(13600,14000,400)\n",
    "    else:\n",
    "        return np.linspace(13600,14000,400)\n",
    "    "
   ]
  },
  {
   "cell_type": "code",
   "execution_count": 7,
   "metadata": {
    "collapsed": true
   },
   "outputs": [],
   "source": [
    "def getx_more(l_index):\n",
    "    #Here, any different sampling in x can be plugged in. For most shapes, this sampling is sufficient.\n",
    "    \n",
    "    l = transfer.l[l_index]\n",
    "    \n",
    "    if(0<= l <= 5):\n",
    "        return np.linspace(0,30000,800)\n",
    "    if(5< l <= 10):\n",
    "        return np.linspace(7000,20000,800)\n",
    "    if(10< l <= 30):\n",
    "        return np.linspace(12000,17000,200)\n",
    "    if(30< l <= 70):\n",
    "        return np.linspace(12500,15000,200)\n",
    "    if(70< l <= 170):\n",
    "        return np.linspace(12500,15000,200)\n",
    "    if(170< l <= 220):\n",
    "        return np.linspace(13300,14500,200)\n",
    "    if(220< l <= 269):\n",
    "        return np.linspace(13300,14100,200)\n",
    "    if(269<l < 320):\n",
    "        return np.linspace(13400,14000,200)\n",
    "    if(320 <l < 360):\n",
    "        return np.linspace(13400,14000,200)\n",
    "    if(360 <l < 440):\n",
    "        return np.linspace(13300,14000,200)\n",
    "    if(440 <l < 500):\n",
    "        return np.linspace(13300,14000,200)\n",
    "    else:\n",
    "        return np.linspace(13600,14000,200)\n",
    "    "
   ]
  },
  {
   "cell_type": "code",
   "execution_count": 10,
   "metadata": {
    "collapsed": true
   },
   "outputs": [],
   "source": [
    "def blll_const(l1,l2= 0 ,l3 = 0):\n",
    "    \n",
    "    if(l2 == 0):\n",
    "        l2 = l1\n",
    "        l3 = l1\n",
    "    \n",
    "    return 1/27*1/(2*l1+1)*1/(2*l2+1)*1/(2*l3+1)*(1/((l1+l2+l3)+3)+1/(l1+l2+l3))\n"
   ]
  },
  {
   "cell_type": "code",
   "execution_count": 15,
   "metadata": {},
   "outputs": [
    {
     "name": "stdout",
     "output_type": "stream",
     "text": [
      "0\n",
      "5\n",
      "10\n"
     ]
    },
    {
     "ename": "KeyboardInterrupt",
     "evalue": "",
     "output_type": "error",
     "traceback": [
      "\u001b[1;31m---------------------------------------------------------------------------\u001b[0m",
      "\u001b[1;31mKeyboardInterrupt\u001b[0m                         Traceback (most recent call last)",
      "\u001b[1;32m<ipython-input-15-faea295b5bea>\u001b[0m in \u001b[0;36m<module>\u001b[1;34m()\u001b[0m\n\u001b[0;32m      4\u001b[0m \u001b[1;32mfor\u001b[0m \u001b[0ml_index\u001b[0m \u001b[1;32min\u001b[0m \u001b[0mReduced_L_List\u001b[0m\u001b[1;33m:\u001b[0m\u001b[1;33m\u001b[0m\u001b[0m\n\u001b[0;32m      5\u001b[0m     \u001b[0mprint\u001b[0m\u001b[1;33m(\u001b[0m\u001b[0ml_index\u001b[0m\u001b[1;33m)\u001b[0m\u001b[1;33m\u001b[0m\u001b[0m\n\u001b[1;32m----> 6\u001b[1;33m     \u001b[0mblllArray\u001b[0m\u001b[1;33m.\u001b[0m\u001b[0mappend\u001b[0m\u001b[1;33m(\u001b[0m\u001b[0mFatInt\u001b[0m\u001b[1;33m(\u001b[0m\u001b[0ml_index\u001b[0m\u001b[1;33m,\u001b[0m\u001b[0mgetx_more\u001b[0m\u001b[1;33m(\u001b[0m\u001b[0ml_index\u001b[0m\u001b[1;33m)\u001b[0m\u001b[1;33m,\u001b[0m\u001b[0mUseSameInt\u001b[0m\u001b[1;33m=\u001b[0m\u001b[1;32mTrue\u001b[0m\u001b[1;33m)\u001b[0m\u001b[1;33m/\u001b[0m\u001b[0mblll_const\u001b[0m\u001b[1;33m(\u001b[0m\u001b[0mtransfer\u001b[0m\u001b[1;33m.\u001b[0m\u001b[0ml\u001b[0m\u001b[1;33m[\u001b[0m\u001b[0ml_index\u001b[0m\u001b[1;33m]\u001b[0m\u001b[1;33m)\u001b[0m\u001b[1;33m)\u001b[0m\u001b[1;33m\u001b[0m\u001b[0m\n\u001b[0m\u001b[0;32m      7\u001b[0m \u001b[0mblllArray\u001b[0m \u001b[1;33m=\u001b[0m \u001b[0mnp\u001b[0m\u001b[1;33m.\u001b[0m\u001b[0marray\u001b[0m\u001b[1;33m(\u001b[0m\u001b[0mblllArray\u001b[0m\u001b[1;33m)\u001b[0m\u001b[1;33m\u001b[0m\u001b[0m\n",
      "\u001b[1;32m<ipython-input-5-1b37e7ea3048>\u001b[0m in \u001b[0;36mFatInt\u001b[1;34m(l1_index, x_sample, l2_index, l3_index, PlotIntegrand, UseSameInt)\u001b[0m\n\u001b[0;32m     24\u001b[0m     \u001b[1;32mif\u001b[0m\u001b[1;33m(\u001b[0m\u001b[0mUseSameInt\u001b[0m \u001b[1;33m==\u001b[0m \u001b[1;32mTrue\u001b[0m \u001b[1;32mand\u001b[0m \u001b[0ml1_index\u001b[0m \u001b[1;33m==\u001b[0m \u001b[0ml2_index\u001b[0m \u001b[1;33m==\u001b[0m \u001b[0ml3_index\u001b[0m\u001b[1;33m)\u001b[0m\u001b[1;33m:\u001b[0m\u001b[1;33m\u001b[0m\u001b[0m\n\u001b[0;32m     25\u001b[0m \u001b[1;33m\u001b[0m\u001b[0m\n\u001b[1;32m---> 26\u001b[1;33m         \u001b[0mIntegralvalue\u001b[0m \u001b[1;33m=\u001b[0m \u001b[0mx_squared_Stepwidth\u001b[0m\u001b[1;33m.\u001b[0m\u001b[0mdot\u001b[0m\u001b[1;33m(\u001b[0m\u001b[0mInt\u001b[0m\u001b[1;33m(\u001b[0m\u001b[0mx_sample\u001b[0m\u001b[1;33m,\u001b[0m\u001b[0ml1_index\u001b[0m\u001b[1;33m,\u001b[0m\u001b[1;36m1\u001b[0m\u001b[1;33m)\u001b[0m\u001b[1;33m[\u001b[0m\u001b[1;33m:\u001b[0m\u001b[1;33m-\u001b[0m\u001b[1;36m1\u001b[0m\u001b[1;33m]\u001b[0m\u001b[1;33m**\u001b[0m\u001b[1;36m3\u001b[0m\u001b[1;33m)\u001b[0m\u001b[1;33m\u001b[0m\u001b[0m\n\u001b[0m\u001b[0;32m     27\u001b[0m         \u001b[1;32mif\u001b[0m\u001b[1;33m(\u001b[0m\u001b[0mPlotIntegrand\u001b[0m \u001b[1;33m==\u001b[0m \u001b[1;32mTrue\u001b[0m\u001b[1;33m)\u001b[0m\u001b[1;33m:\u001b[0m\u001b[1;33m\u001b[0m\u001b[0m\n\u001b[0;32m     28\u001b[0m \u001b[1;33m\u001b[0m\u001b[0m\n",
      "\u001b[1;32m<ipython-input-4-66e6ab807ba1>\u001b[0m in \u001b[0;36mInt\u001b[1;34m(x, l_index, l_index_index)\u001b[0m\n\u001b[0;32m     12\u001b[0m \u001b[1;33m\u001b[0m\u001b[0m\n\u001b[0;32m     13\u001b[0m     \u001b[0mDel_Step\u001b[0m \u001b[1;33m=\u001b[0m \u001b[0mStepwidth\u001b[0m \u001b[1;33m*\u001b[0m \u001b[0mDelta\u001b[0m \u001b[1;33m*\u001b[0m \u001b[0mSvals\u001b[0m\u001b[1;33m\u001b[0m\u001b[0m\n\u001b[1;32m---> 14\u001b[1;33m     \u001b[0mj_l\u001b[0m \u001b[1;33m=\u001b[0m \u001b[0mBessel\u001b[0m\u001b[1;33m(\u001b[0m\u001b[0mnp\u001b[0m\u001b[1;33m.\u001b[0m\u001b[0mtensordot\u001b[0m\u001b[1;33m(\u001b[0m\u001b[0mtransfer\u001b[0m\u001b[1;33m.\u001b[0m\u001b[0mq\u001b[0m\u001b[1;33m[\u001b[0m\u001b[1;33m:\u001b[0m\u001b[1;33m-\u001b[0m\u001b[1;36m1\u001b[0m\u001b[1;33m]\u001b[0m\u001b[1;33m,\u001b[0m\u001b[0mx\u001b[0m\u001b[1;33m,\u001b[0m\u001b[1;36m0\u001b[0m\u001b[1;33m)\u001b[0m\u001b[1;33m,\u001b[0m\u001b[0mtransfer\u001b[0m\u001b[1;33m.\u001b[0m\u001b[0ml\u001b[0m\u001b[1;33m[\u001b[0m\u001b[0ml_index\u001b[0m\u001b[1;33m]\u001b[0m\u001b[1;33m)\u001b[0m\u001b[1;33m\u001b[0m\u001b[0m\n\u001b[0m\u001b[0;32m     15\u001b[0m     \u001b[0mIntegral\u001b[0m \u001b[1;33m=\u001b[0m \u001b[0mDel_Step\u001b[0m\u001b[1;33m.\u001b[0m\u001b[0mdot\u001b[0m\u001b[1;33m(\u001b[0m\u001b[0mj_l\u001b[0m\u001b[1;33m)\u001b[0m\u001b[1;33m\u001b[0m\u001b[0m\n\u001b[0;32m     16\u001b[0m \u001b[1;33m\u001b[0m\u001b[0m\n",
      "\u001b[1;32m<ipython-input-3-cb0054bd2054>\u001b[0m in \u001b[0;36mBessel\u001b[1;34m(x, l)\u001b[0m\n\u001b[0;32m      1\u001b[0m \u001b[1;32mdef\u001b[0m \u001b[0mBessel\u001b[0m\u001b[1;33m(\u001b[0m\u001b[0mx\u001b[0m\u001b[1;33m,\u001b[0m\u001b[0ml\u001b[0m\u001b[1;33m)\u001b[0m\u001b[1;33m:\u001b[0m\u001b[1;33m\u001b[0m\u001b[0m\n\u001b[1;32m----> 2\u001b[1;33m     \u001b[1;32mreturn\u001b[0m \u001b[0msp\u001b[0m\u001b[1;33m.\u001b[0m\u001b[0mspecial\u001b[0m\u001b[1;33m.\u001b[0m\u001b[0mspherical_jn\u001b[0m\u001b[1;33m(\u001b[0m\u001b[0ml\u001b[0m\u001b[1;33m,\u001b[0m\u001b[0mx\u001b[0m\u001b[1;33m)\u001b[0m\u001b[1;33m\u001b[0m\u001b[0m\n\u001b[0m\u001b[0;32m      3\u001b[0m \u001b[1;33m\u001b[0m\u001b[0m\n\u001b[0;32m      4\u001b[0m \u001b[1;32mdef\u001b[0m \u001b[0mS_1\u001b[0m\u001b[1;33m(\u001b[0m\u001b[0mk1\u001b[0m\u001b[1;33m)\u001b[0m\u001b[1;33m:\u001b[0m\u001b[1;33m\u001b[0m\u001b[0m\n\u001b[0;32m      5\u001b[0m \u001b[1;33m\u001b[0m\u001b[0m\n",
      "\u001b[1;32mC:\\Users\\robin\\Anaconda3\\lib\\site-packages\\scipy\\special\\_spherical_bessel.py\u001b[0m in \u001b[0;36mspherical_jn\u001b[1;34m(n, z, derivative)\u001b[0m\n\u001b[0;32m     54\u001b[0m         \u001b[1;32mreturn\u001b[0m \u001b[0m_spherical_jn_d\u001b[0m\u001b[1;33m(\u001b[0m\u001b[0mn\u001b[0m\u001b[1;33m,\u001b[0m \u001b[0mz\u001b[0m\u001b[1;33m)\u001b[0m\u001b[1;33m\u001b[0m\u001b[0m\n\u001b[0;32m     55\u001b[0m     \u001b[1;32melse\u001b[0m\u001b[1;33m:\u001b[0m\u001b[1;33m\u001b[0m\u001b[0m\n\u001b[1;32m---> 56\u001b[1;33m         \u001b[1;32mreturn\u001b[0m \u001b[0m_spherical_jn\u001b[0m\u001b[1;33m(\u001b[0m\u001b[0mn\u001b[0m\u001b[1;33m,\u001b[0m \u001b[0mz\u001b[0m\u001b[1;33m)\u001b[0m\u001b[1;33m\u001b[0m\u001b[0m\n\u001b[0m\u001b[0;32m     57\u001b[0m \u001b[1;33m\u001b[0m\u001b[0m\n\u001b[0;32m     58\u001b[0m \u001b[1;33m\u001b[0m\u001b[0m\n",
      "\u001b[1;31mKeyboardInterrupt\u001b[0m: "
     ]
    }
   ],
   "source": [
    "blllArray = []\n",
    "l_list = np.load(\"l_list.npy\")\n",
    "Reduced_L_List = l_list[::5] #Just change this 5 to a 1, if you are interested in the full b_lll\n",
    "for l_index in Reduced_L_List:\n",
    "    print(l_index)\n",
    "    blllArray.append(FatInt(l_index,getx_more(l_index),UseSameInt=True)/blll_const(transfer.l[l_index]))\n",
    "blllArray = np.array(blllArray)"
   ]
  },
  {
   "cell_type": "code",
   "execution_count": 13,
   "metadata": {},
   "outputs": [
    {
     "data": {
      "image/png": "[encoded data removed]",
      "text/plain": [
       "<matplotlib.figure.Figure at 0x202c9cc6ef0>"
      ]
     },
     "metadata": {},
     "output_type": "display_data"
    }
   ],
   "source": [
    "plt.plot(Reduced_L_List, blllArray)\n",
    "\n",
    "plt.show()"
   ]
  },
  {
   "cell_type": "code",
   "execution_count": null,
   "metadata": {
    "collapsed": true
   },
   "outputs": [],
   "source": []
  }
 ],
 "metadata": {
  "kernelspec": {
   "display_name": "Python 3",
   "language": "python",
   "name": "python3"
  },
  "language_info": {
   "codemirror_mode": {
    "name": "ipython",
    "version": 3
   },
   "file_extension": ".py",
   "mimetype": "text/x-python",
   "name": "python",
   "nbconvert_exporter": "python",
   "pygments_lexer": "ipython3",
   "version": "3.6.1"
  }
 },
 "nbformat": 4,
 "nbformat_minor": 2
}
