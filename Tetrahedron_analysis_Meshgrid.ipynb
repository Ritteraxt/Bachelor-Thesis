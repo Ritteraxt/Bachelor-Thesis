{
 "cells": [
  {
   "cell_type": "code",
   "execution_count": 1,
   "metadata": {
    "collapsed": true
   },
   "outputs": [],
   "source": [
    "import sys, platform, os\n",
    "import matplotlib\n",
    "from matplotlib import pyplot as plt\n",
    "import numpy as np\n",
    "import scipy as sp\n",
    "import scipy.special\n",
    "import random\n",
    "from mpmath import mp\n",
    "import time\n",
    "import matplotlib.patches as mpatches\n",
    "\n",
    "from mpl_toolkits import mplot3d\n",
    "from mpl_toolkits.mplot3d import Axes3D\n",
    "\n"
   ]
  },
  {
   "cell_type": "code",
   "execution_count": 2,
   "metadata": {
    "collapsed": true
   },
   "outputs": [],
   "source": [
    "def Bessel(x,l):\n",
    "    return sp.special.spherical_jn(l,x)\n"
   ]
  },
  {
   "cell_type": "code",
   "execution_count": 3,
   "metadata": {
    "collapsed": true
   },
   "outputs": [],
   "source": [
    "mp.dps = 200 # accurate up to 100 decimal places. The accuracy can be switched here."
   ]
  },
  {
   "cell_type": "code",
   "execution_count": 4,
   "metadata": {
    "collapsed": true
   },
   "outputs": [],
   "source": [
    "def FillFacTuple(x_max,Prefactor = mp.mpf(1.),Exponent = 0):\n",
    "    # returns the faculties calculated up to x_max. More specific: Returns A,B in the form fac(x) = A* (10**6) **B\n",
    "    #WATCH OUT: x has to be integer!!!\n",
    "    \n",
    "    if(x_max != int(x_max)):\n",
    "        print(\"X_MAX HAS TO BE AN INTEGER\")\n",
    "    \n",
    "    x = x_max #oops\n",
    "    \n",
    "    FacTuple =[-1]*(x_max*2+2)\n",
    "    \n",
    "    x = int(x)\n",
    "    \n",
    "    for i in range(1,x+1):\n",
    "        \n",
    "        if(Prefactor*i < 10**6):\n",
    "            Prefactor *= i\n",
    "            FacTuple[2*i] = np.array([Prefactor, Exponent])\n",
    "        \n",
    "        else:\n",
    "            Prefactor = Prefactor /mp.mpf(10**6)\n",
    "            Prefactor *=i\n",
    "            Exponent += 1\n",
    "            FacTuple[2*i] = np.array([Prefactor, Exponent])\n",
    "            \n",
    "            \n",
    "    FacTuple[0] = np.array([mp.mpf(1.),0.])\n",
    "    \n",
    "    x = x+0.5\n",
    "    \n",
    "    Prefactor = mp.sqrt(mp.pi)/2\n",
    "    Exponent = 0\n",
    "    for i in range(3, int(2*x)+1,2):\n",
    "\n",
    "        if(Prefactor*i < 10**6):\n",
    "            Prefactor *= i/2\n",
    "            FacTuple[i] = np.array([Prefactor, Exponent])\n",
    "        else:\n",
    "            Prefactor = Prefactor /mp.mpf(10**6)\n",
    "            Prefactor *=i/2\n",
    "            Exponent += 1\n",
    "            FacTuple[i] = np.array([Prefactor, Exponent])\n",
    "\n",
    "    FacTuple[1] = np.array([mp.sqrt(mp.pi)/2,0])\n",
    "    \n",
    "    return FacTuple\n",
    "\n",
    "FacTuple = np.array(FillFacTuple(7000))"
   ]
  },
  {
   "cell_type": "code",
   "execution_count": 5,
   "metadata": {
    "collapsed": true
   },
   "outputs": [],
   "source": [
    "def fac(x):\n",
    "\n",
    "    if(type(x) == np.ndarray):\n",
    "        y = (2*x).astype(int)\n",
    "        return FacTuple[y].transpose()\n",
    "    \n",
    "    return FacTuple[int(2*x)]\n",
    "\n"
   ]
  },
  {
   "cell_type": "code",
   "execution_count": 6,
   "metadata": {
    "collapsed": true
   },
   "outputs": [],
   "source": [
    "def Reduced_E(a,b,c): #so far only suitable for scalar a,b,c.\n",
    "\n",
    "    a1,b1 = fac(a+b+c+1)\n",
    "    a2,b2 = fac(1/2.*(a+b-c))\n",
    "    a3,b3 = fac(1/2.*(a-b+c))\n",
    "    a4,b4 = fac(1/2.*(-a+b+c))\n",
    "\n",
    "    a5,b5 = fac(a+b-c)\n",
    "    a6,b6 = fac(1/2.*(a+b+c))\n",
    "\n",
    "    return np.array([a1*a2*a3*a4/(a5*a6),b1+b2+b3+b4-b5-b6])"
   ]
  },
  {
   "cell_type": "code",
   "execution_count": 7,
   "metadata": {
    "collapsed": true
   },
   "outputs": [],
   "source": [
    "def Triangle(a,b,c): #Okay, these functions are stated here, but they are not actually used.\n",
    "    if((a+b+c)%2==0):\n",
    "        if(abs(a-b)<=c<=a+b):\n",
    "            if(abs(b-c)<=a<=b+c):\n",
    "                if(abs(a-c)<=b<=a+c):\n",
    "                    return 1\n",
    "    return 0\n",
    "    \n",
    "def WeakTriangle(a,b,c):    \n",
    "    if(abs(a-b)<=c<=a+b):\n",
    "        if(abs(b-c)<=a<=b+c):\n",
    "            if(abs(a-c)<=b<=a+c):\n",
    "                return 1\n",
    "    return 0\n",
    "    \n",
    "    \n",
    "def E(a,b,c):\n",
    "    \n",
    "    if(Triangle(a,b,c)==0):\n",
    "        \n",
    "        return mp.mpf(1)* np.array([0,0])\n",
    "    \n",
    "    return Reduced_E(a,b,c)\n",
    "\n",
    "def Teta(k1,k2,k3):\n",
    "    \n",
    "    if(abs(k1-k2)<k3<abs(k1+k2)):\n",
    "        return 1\n",
    "    \n",
    "    if(abs(k1-k2)==k3 or abs(k1+k2)==k3):\n",
    "        return 0.5\n",
    "    \n",
    "    return 0"
   ]
  },
  {
   "cell_type": "code",
   "execution_count": 8,
   "metadata": {
    "collapsed": true
   },
   "outputs": [],
   "source": [
    "def Q_Modified(l3,L,k1,l1,k2,l2):\n",
    "    \n",
    "    if(Triangle(l2,l1,l3)==0): \n",
    "                \n",
    "        return mp.mpf(0)\n",
    "\n",
    "    \n",
    "    a_pre,b_pre = E(l2,l1,l3)\n",
    "\n",
    "    prefactor = a_pre*(-1)**(int((l3-l1+l2)/2))*(2*L+1)/2\n",
    "\n",
    "    #here I add the terms of the sum in the form A * (10**6)**B\n",
    "    Qsum = 0\n",
    "    \n",
    "    jList = np.array(range(abs(L-l2),l3-abs(L-l1)+1,2))\n",
    "\n",
    "\n",
    "    a_sum1, b_sum1 =  Reduced_E(l1,L,l3-jList) # Reduced, because E contains an if statement that is usually True anyway.\n",
    "    a_sum2, b_sum2 =  Reduced_E(l2,L,jList) #\n",
    "\n",
    "        \n",
    "    Q_part = ((-k2/k1).reshape(len(k1),1))**jList /(a_sum1*a_sum2)\n",
    "\n",
    "    \n",
    "    Qsum = Q_part.dot((mp.mpf((10**6)))**(b_pre-b_sum2-b_sum1)) #THESE TWO LINES TAKE MOST TIME. For l = 100 it takes 153 of 190 seconds.\n",
    "\n",
    "    \n",
    "\n",
    "    \n",
    "    \n",
    "    return prefactor*Qsum\n"
   ]
  },
  {
   "cell_type": "code",
   "execution_count": 9,
   "metadata": {
    "collapsed": true
   },
   "outputs": [],
   "source": [
    "def J_Modified(l1,l2,l3,k1,k2,k3):\n",
    "    \n",
    "#Teta is equal to 1 anyway, if we choose alpha and beta accordingly.\n",
    "\n",
    "    \n",
    "    mu = ((k1**2+k2**2-k3**2)/(2*k1*k2))\n",
    "    \n",
    "    \n",
    "\n",
    "\n",
    "    prefactor = np.pi/((2*k1*k2))*((k1/k3))**l3 *1/k3 #*Teta(k1,k2,k3)\n",
    "    \n",
    "\n",
    "    Lsum = mp.mpf(1.)*np.array([0.]*len(prefactor))\n",
    "\n",
    "    Lower = (l1+l2-l3)//2\n",
    "    \n",
    "    for L in range(Lower,(l1+l2+l3)//2+1):\n",
    "        \n",
    "        Mult = Q_Modified(l3,L,k1,l1,k2,l2)\n",
    "        \n",
    "        #unfortunately, mp.legendre doesnt accept arrays as arguments :-(\n",
    "        \n",
    "        Legendrearr = np.array([mp.legendre(L,mu_entry) for mu_entry in mu])\n",
    "\n",
    "        Lsum += Mult*Legendrearr\n",
    "\n",
    "    return prefactor * Lsum  "
   ]
  },
  {
   "cell_type": "code",
   "execution_count": 10,
   "metadata": {
    "collapsed": true
   },
   "outputs": [],
   "source": [
    "def ReduceArrays(Alphas,Betas):\n",
    "    # This function validates the tetrahedron condition for the alpha and beta meshgrid.\n",
    "    \n",
    "    \n",
    "    Valid_Indices = []\n",
    "    \n",
    "    for i in range(len(Alphas)):\n",
    "        if(Alphas[i]<=1-Betas[i]):\n",
    "            if(Alphas[i]>=-(1-Betas[i])):\n",
    "                Valid_Indices.append(i)\n",
    "    \n",
    "    \n",
    "    return Valid_Indices"
   ]
  },
  {
   "cell_type": "code",
   "execution_count": 11,
   "metadata": {
    "collapsed": true
   },
   "outputs": [],
   "source": [
    "def Int_G_Meshgrid(alpha_array,beta_array,l1,l2 = 0,l3 = 0):\n",
    "    #Currently only accepts numpy arrays as alpha/beta array.\n",
    "    #returns the integral over the 3 bessel functions. Analytically.\n",
    "    \n",
    "    #What I am currently doing: Check that The Alphas and Betas fulfill the \"triangle condition\", i.e. -(1-b)<=alph<=1-b\n",
    "    #then calculate the integral with the remaining ones, then put every remaining pair of alpha/beta to zero.\n",
    "    \n",
    "    if(l2 == 0 or l3 == 0):\n",
    "        l2 = l1\n",
    "        l3 = l1\n",
    "    \n",
    "    shape = alpha_array.shape\n",
    "    \n",
    "    alpha_array = alpha_array.flatten()\n",
    "    beta_array = beta_array.flatten()\n",
    "\n",
    "    Indices  = ReduceArrays(alpha_array,beta_array)\n",
    "\n",
    "    \n",
    "    \n",
    "    red_alpha_array = alpha_array[Indices]\n",
    "    red_beta_array = beta_array[Indices]\n",
    "    \n",
    "    #converts the arrays to mpfloats\n",
    "    a_arr = mp.mpf(1.)*(1-red_beta_array)\n",
    "    b_arr = mp.mpf(1.)*1./2*(1+red_alpha_array+red_beta_array)\n",
    "    c_arr = mp.mpf(1.)*1./2*(1-red_alpha_array+red_beta_array)\n",
    "    \n",
    "    \n",
    "    Integral_Array = J_Modified(l1,l2,l3,a_arr,b_arr,c_arr)\n",
    "    \n",
    "    Values = np.zeros(len(alpha_array))\n",
    "    \n",
    "    Values[Indices] = Integral_Array #this one overwrites the zeros with the actual values at the right position.\n",
    "    \n",
    "    Values = Values.reshape(shape)\n",
    "    \n",
    "    return Values\n"
   ]
  },
  {
   "cell_type": "code",
   "execution_count": 12,
   "metadata": {
    "collapsed": true
   },
   "outputs": [],
   "source": [
    "beta_initial = np.linspace(0.0001,0.999,100) # Here, one can define the density of sampling in the alpha/beta plane.\n",
    "alpha_initial = np.linspace(-1,1,100) \n",
    "\n",
    "AlphaArray, BetaArray = np.meshgrid(alpha_initial,beta_initial)\n",
    "\n"
   ]
  },
  {
   "cell_type": "code",
   "execution_count": 13,
   "metadata": {
    "collapsed": true
   },
   "outputs": [],
   "source": [
    "XMax = 80000.    #XMax = 1000. for standard accuracy\n",
    "XSteps = 8000000  #XSteps = 10000 for standard accuracy\n",
    "Stepwidth = XMax/XSteps #This is the numerical integral of the Bessel functions for comparison purposes.\n",
    "x = np.arange(0,XMax,Stepwidth)\n",
    "\n",
    "\n",
    "\n",
    "def Int_G_Num(alpha,beta,l,x_sample = np.arange(0,1000,10000),Valueonly = True):\n",
    "    \n",
    "    a = np.array(1-beta)\n",
    "    b = np.array((1+alpha+beta)/2.)\n",
    "    c = np.array((1-alpha + beta)/2.)\n",
    "    \n",
    "    BesA = Bessel(np.tensordot(a,x_sample,0),l)\n",
    "    BesB = Bessel(np.tensordot(b,x_sample,0),l)\n",
    "    BesC = Bessel(np.tensordot(c,x_sample,0),l)\n",
    "    \n",
    "    Stepwidth = x_sample[3]-x_sample[2] #assuming linearly spaced x\n",
    "\n",
    "\n",
    "    if (Valueonly == True):\n",
    "        return Stepwidth*((x**2).dot((BesA*BesB*BesC).transpose()))\n",
    "    \n",
    "    return Stepwidth*((x**2).dot((BesA*BesB*BesC).transpose()))#,x_sample,x_sample**2*BesA*BesB*BesC\n",
    "\n",
    "\n"
   ]
  },
  {
   "cell_type": "code",
   "execution_count": 21,
   "metadata": {},
   "outputs": [
    {
     "name": "stdout",
     "output_type": "stream",
     "text": [
      "[mpf('-1.05449306979951174521663266542052827810757805534479906778155467803379148611654118424968091393425587862318078147335752404471057312904217739795434616258035368329664131214980575951049690986768095935883409')]\n"
     ]
    }
   ],
   "source": [
    "#This one will calculate values for individual coices of l1,l2,l3; k1,k2,k3\n",
    "l1 = 6\n",
    "l2 = 8\n",
    "l3 = 8\n",
    "k1 = 0.4 #exemplary values.\n",
    "k2 = 0.7\n",
    "k3 = 0.9\n",
    "Single_Point_Data = J_Modified(l1,l2,l3,mp.mpf(1.)*np.array([k1]),mp.mpf(1.)*np.array([k2]),mp.mpf(1.)*np.array([k3]))\n",
    "#Note that points can only be handed over in arrays AND must be mpfloats.\n",
    "\n",
    "    \n",
    "#This one will calculate whole Tetrahedron-cut-throughs\n",
    "Data = Int_G_Meshgrid(AlphaArray,BetaArray,l1,l2,l3) #Calculates the integral for a tetrahedron cut-through at l1,l2,l3"
   ]
  },
  {
   "cell_type": "code",
   "execution_count": 22,
   "metadata": {
    "collapsed": true
   },
   "outputs": [],
   "source": [
    "np.save(\"DataDreieckMashgridMyData.npy\",Data) #Save the Data with the prefix \"DataDreieckMashgrid\", so it will be plotted."
   ]
  }
 ],
 "metadata": {
  "kernelspec": {
   "display_name": "Python 3",
   "language": "python",
   "name": "python3"
  },
  "language_info": {
   "codemirror_mode": {
    "name": "ipython",
    "version": 3
   },
   "file_extension": ".py",
   "mimetype": "text/x-python",
   "name": "python",
   "nbconvert_exporter": "python",
   "pygments_lexer": "ipython3",
   "version": "3.6.1"
  }
 },
 "nbformat": 4,
 "nbformat_minor": 2
}
