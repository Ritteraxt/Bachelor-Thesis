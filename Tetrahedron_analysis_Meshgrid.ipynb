{
 "cells": [
  {
   "cell_type": "code",
   "execution_count": 1,
   "metadata": {
    "collapsed": true
   },
   "outputs": [],
   "source": [
    "import sys, platform, os\n",
    "import matplotlib\n",
    "from matplotlib import pyplot as plt\n",
    "import numpy as np\n",
    "import scipy as sp\n",
    "import scipy.special\n",
    "import random\n",
    "from mpmath import mp\n",
    "import time\n",
    "import matplotlib.patches as mpatches\n",
    "\n",
    "from mpl_toolkits import mplot3d\n",
    "from mpl_toolkits.mplot3d import Axes3D\n",
    "#NUMPY.Meshgrid seems promising\n"
   ]
  },
  {
   "cell_type": "code",
   "execution_count": 2,
   "metadata": {
    "collapsed": true
   },
   "outputs": [],
   "source": [
    "def Bessel(x,l):\n",
    "    return sp.special.spherical_jn(l,x)\n"
   ]
  },
  {
   "cell_type": "code",
   "execution_count": 3,
   "metadata": {
    "collapsed": true
   },
   "outputs": [],
   "source": [
    "mp.dps = 200 # accurate up to 100 decimal places."
   ]
  },
  {
   "cell_type": "code",
   "execution_count": 4,
   "metadata": {
    "collapsed": true
   },
   "outputs": [],
   "source": [
    "def FillFacTuple(x_max,Prefactor = mp.mpf(1.),Exponent = 0):\n",
    "    # returns the faculty. More specific: Returns A,B in the form fac(x) = A* (10**6) **B\n",
    "    #WATCH OUT: x has to be integer!!!\n",
    "    \n",
    "    if(x_max != int(x_max)):\n",
    "        print(\"X_MAX HAS TO BE AN INTEGER\")\n",
    "    \n",
    "    x = x_max #oops\n",
    "    \n",
    "    FacTuple =[-1]*(x_max*2+2)\n",
    "    \n",
    "    x = int(x)\n",
    "    \n",
    "    for i in range(1,x+1):\n",
    "        \n",
    "        if(Prefactor*i < 10**6):\n",
    "            Prefactor *= i\n",
    "            FacTuple[2*i] = np.array([Prefactor, Exponent])\n",
    "        \n",
    "        else:\n",
    "            Prefactor = Prefactor /mp.mpf(10**6)\n",
    "            Prefactor *=i\n",
    "            Exponent += 1\n",
    "            FacTuple[2*i] = np.array([Prefactor, Exponent])\n",
    "            \n",
    "            \n",
    "    FacTuple[0] = np.array([mp.mpf(1.),0.])\n",
    "    \n",
    "    x = x+0.5\n",
    "    \n",
    "    Prefactor = mp.sqrt(mp.pi)/2\n",
    "    Exponent = 0\n",
    "    for i in range(3, int(2*x)+1,2):\n",
    "\n",
    "        if(Prefactor*i < 10**6):\n",
    "            Prefactor *= i/2\n",
    "            FacTuple[i] = np.array([Prefactor, Exponent])\n",
    "        else:\n",
    "            Prefactor = Prefactor /mp.mpf(10**6)\n",
    "            Prefactor *=i/2\n",
    "            Exponent += 1\n",
    "            FacTuple[i] = np.array([Prefactor, Exponent])\n",
    "\n",
    "    FacTuple[1] = np.array([mp.sqrt(mp.pi)/2,0])\n",
    "    \n",
    "    return FacTuple\n",
    "\n",
    "FacTuple = np.array(FillFacTuple(7000))"
   ]
  },
  {
   "cell_type": "code",
   "execution_count": 5,
   "metadata": {
    "collapsed": true
   },
   "outputs": [],
   "source": [
    "def fac(x):\n",
    "\n",
    "    if(type(x) == np.ndarray):\n",
    "        y = (2*x).astype(int)\n",
    "        return FacTuple[y].transpose()\n",
    "    \n",
    "    return FacTuple[int(2*x)]\n",
    "\n"
   ]
  },
  {
   "cell_type": "code",
   "execution_count": 6,
   "metadata": {
    "collapsed": true
   },
   "outputs": [],
   "source": [
    "\n",
    "\n",
    "def Reduced_E(a,b,c): #so far only suitable for scalar a,b,c.\n",
    "\n",
    "    a1,b1 = fac(a+b+c+1)\n",
    "    a2,b2 = fac(1/2.*(a+b-c))\n",
    "    a3,b3 = fac(1/2.*(a-b+c))\n",
    "    a4,b4 = fac(1/2.*(-a+b+c))\n",
    "\n",
    "    a5,b5 = fac(a+b-c)\n",
    "    a6,b6 = fac(1/2.*(a+b+c))\n",
    "\n",
    "    return np.array([a1*a2*a3*a4/(a5*a6),b1+b2+b3+b4-b5-b6])\n",
    "\n",
    "\n",
    "\n"
   ]
  },
  {
   "cell_type": "code",
   "execution_count": 7,
   "metadata": {
    "collapsed": true
   },
   "outputs": [],
   "source": [
    "def Triangle(a,b,c):\n",
    "    if((a+b+c)%2==0):\n",
    "        if(abs(a-b)<=c<=a+b):\n",
    "            if(abs(b-c)<=a<=b+c):\n",
    "                if(abs(a-c)<=b<=a+c):\n",
    "                    return 1\n",
    "    return 0\n",
    "    \n",
    "def WeakTriangle(a,b,c):    \n",
    "    if(abs(a-b)<=c<=a+b):\n",
    "        if(abs(b-c)<=a<=b+c):\n",
    "            if(abs(a-c)<=b<=a+c):\n",
    "                return 1\n",
    "    return 0\n",
    "    \n",
    "    \n",
    "def E(a,b,c):\n",
    "    \n",
    "    if(Triangle(a,b,c)==0):\n",
    "        \n",
    "        return mp.mpf(1)* np.array([0,0])\n",
    "    \n",
    "    return Reduced_E(a,b,c)\n",
    "\n",
    "def Teta(k1,k2,k3):\n",
    "    \n",
    "    if(abs(k1-k2)<k3<abs(k1+k2)):\n",
    "        return 1\n",
    "    \n",
    "    if(abs(k1-k2)==k3 or abs(k1+k2)==k3):\n",
    "        return 0.5\n",
    "    \n",
    "    return 0\n",
    "    \n",
    "    \n"
   ]
  },
  {
   "cell_type": "code",
   "execution_count": 8,
   "metadata": {
    "collapsed": true
   },
   "outputs": [],
   "source": [
    "def Q_Modified(l3,L,k1,l1,k2,l2):\n",
    "    \n",
    "    if(Triangle(l2,l1,l3)==0): \n",
    "                \n",
    "        return mp.mpf(0)\n",
    "\n",
    "    \n",
    "    a_pre,b_pre = E(l2,l1,l3)\n",
    "\n",
    "    prefactor = a_pre*(-1)**(int((l3-l1+l2)/2))*(2*L+1)/2\n",
    "\n",
    "    \n",
    "    \n",
    "    #Sumarray = [] #here I add the terms of the sum in the form A * (10**6)**B\n",
    "    #Not Finished Yet. Must Fix.\n",
    "    Qsum = 0\n",
    "    \n",
    "    jList = np.array(range(abs(L-l2),l3-abs(L-l1)+1,2))\n",
    "\n",
    "\n",
    "    a_sum1, b_sum1 =  Reduced_E(l1,L,l3-jList) # Reduced, because E contains an if statement that is usually True anyway.\n",
    "    a_sum2, b_sum2 =  Reduced_E(l2,L,jList) #\n",
    "\n",
    "        \n",
    "    Q_part = ((-k2/k1).reshape(len(k1),1))**jList /(a_sum1*a_sum2)\n",
    "\n",
    "    \n",
    "    Qsum = Q_part.dot((mp.mpf((10**6)))**(b_pre-b_sum2-b_sum1)) #THESE TWO LINES TAKE MOST TIME. For l = 100 it takes 153 of 190 seconds.\n",
    "\n",
    "\n",
    "        \n",
    "        \n",
    "        #if(E(l2,L,j) == 0):\n",
    "    \n",
    "\n",
    "    \n",
    "    \n",
    "    return prefactor*Qsum\n",
    "\n",
    "#Q_Modified(6,np.array([6,6]),1,6,1,6)\n"
   ]
  },
  {
   "cell_type": "code",
   "execution_count": 9,
   "metadata": {
    "collapsed": true
   },
   "outputs": [],
   "source": [
    "def J_Modified(l1,l2,l3,k1,k2,k3):\n",
    "    \n",
    "\n",
    "    #ReturnableArray = np.array([-1]*len(k1))\n",
    "    \n",
    "    #for i in range(len(k1)):\n",
    "    #    if (Teta(k1[i],k2[i],k3[i]) == 0):\n",
    "        \n",
    "    #        ReturnableArray[i]=0\n",
    "     #Teta is equal to 1 anyway, if we choose alpha and beta accordingly.\n",
    "\n",
    "    \n",
    "    mu = ((k1**2+k2**2-k3**2)/(2*k1*k2))\n",
    "    \n",
    "    \n",
    "\n",
    "\n",
    "    prefactor = np.pi/((2*k1*k2))*((k1/k3))**l3 *1/k3 #*Teta(k1,k2,k3)\n",
    "    \n",
    "\n",
    "    Lsum = mp.mpf(1.)*np.array([0.]*len(prefactor))\n",
    "\n",
    "    Lower = (l1+l2-l3)//2\n",
    "    \n",
    "    for L in range(Lower,(l1+l2+l3)//2+1):\n",
    "        \n",
    "        Mult = Q_Modified(l3,L,k1,l1,k2,l2)\n",
    "\n",
    "        #unfortunately, mp.legendre doesnt accept arrays as arguments :-(\n",
    "        \n",
    "        Legendrearr = np.array([mp.legendre(L,mu_entry) for mu_entry in mu])\n",
    "\n",
    "        Lsum += Mult*Legendrearr\n",
    "\n",
    "\n",
    "    return prefactor * Lsum   #here: replace l with l3\n",
    "\n"
   ]
  },
  {
   "cell_type": "code",
   "execution_count": 10,
   "metadata": {
    "collapsed": true
   },
   "outputs": [],
   "source": [
    "def ReduceArrays(Alphas,Betas):\n",
    "    \n",
    "    Valid_Indices = []\n",
    "    \n",
    "    for i in range(len(Alphas)):\n",
    "        if(Alphas[i]<=1-Betas[i]):\n",
    "            if(Alphas[i]>=-(1-Betas[i])):\n",
    "                Valid_Indices.append(i)\n",
    "    \n",
    "    \n",
    "    return Valid_Indices"
   ]
  },
  {
   "cell_type": "code",
   "execution_count": 12,
   "metadata": {
    "collapsed": true
   },
   "outputs": [],
   "source": [
    "def Int_G_Meshgrid(alpha_array,beta_array,l1,l2 = 0,l3 = 0):\n",
    "    #Currently only accepts numpy arrays as alpha/beta array.\n",
    "    #returns the integral over the 3 bessel functions. analytical.\n",
    "    \n",
    "    #What I am currently doing: Check that The Alphas and Betas fulfill the \"triangle condition\", i.e. -(1-b)<=alph<=1-b\n",
    "    #then calculate the integral with the remaining ones, then put every remaining pair of alpha/beta to zero.\n",
    "    \n",
    "    if(l2 == 0 or l3 == 0):\n",
    "        l2 = l1\n",
    "        l3 = l1\n",
    "    \n",
    "    shape = alpha_array.shape\n",
    "    \n",
    "    alpha_array = alpha_array.flatten()\n",
    "    beta_array = beta_array.flatten()\n",
    "    \n",
    "    #start = time.time()\n",
    "    Indices  = ReduceArrays(alpha_array,beta_array)\n",
    "    #end = time.time()\n",
    "    \n",
    "    #print(end-start) #takes about 3ms\n",
    "    \n",
    "    \n",
    "    red_alpha_array = alpha_array[Indices]\n",
    "    red_beta_array = beta_array[Indices]\n",
    "    \n",
    "    #converts the arrays to mpfloats\n",
    "    a_arr = mp.mpf(1.)*(1-red_beta_array)\n",
    "    b_arr = mp.mpf(1.)*1./2*(1+red_alpha_array+red_beta_array)\n",
    "    c_arr = mp.mpf(1.)*1./2*(1-red_alpha_array+red_beta_array)\n",
    "\n",
    "    \n",
    "    Integral_Array = J_Modified(l1,l2,l3,a_arr,b_arr,c_arr)\n",
    "    \n",
    "    Values = np.zeros(len(alpha_array))\n",
    "    \n",
    "    Values[Indices] = Integral_Array #this one overwrites the zeros with the actual values at the right position.\n",
    "    \n",
    "    Values = Values.reshape(shape)\n",
    "    \n",
    "    return Values\n"
   ]
  },
  {
   "cell_type": "code",
   "execution_count": 13,
   "metadata": {
    "collapsed": true
   },
   "outputs": [],
   "source": [
    "def K_Equilateral_Ints(l1,l2,l3,k_list = np.linspace(0.00001,0.1,100)):\n",
    "    \n",
    "    \n",
    "    Integral_Array = J_Modified(l1,l2,l3,k_list,k_list,k_list)\n",
    "    \n",
    "    for i in range(len(k_list)):\n",
    "        if(k_list[i] == 0):\n",
    "            Integral_Array[i] = 0\n",
    "    \n",
    "    return k_list, Integral_Array\n",
    "\n",
    "\n",
    "#Equilateral_k_list = np.logspace(-5,-1,100)\n",
    "\n",
    "#k, Equilateral_vals = K_Equilateral_Ints(100,100,100,k_list = Equilateral_k_list)\n"
   ]
  },
  {
   "cell_type": "code",
   "execution_count": 14,
   "metadata": {
    "collapsed": true
   },
   "outputs": [],
   "source": [
    "def L_Equilateral_k_flattened(l,k3):\n",
    "    \n",
    "    #NOTE TO MYSELF: I calculate this integral WITHOUT the extra Teta factor. The Teta factor would\n",
    "    #correspond to an extra factor of 1/2.\n",
    "    \n",
    "    k1 = k3/2\n",
    "    k2 = k3/2\n",
    "    \n",
    "    \n",
    "    Integral_Array = J_Modified(l,l,l,k1,k2,k3)\n",
    "    \n",
    "    \n",
    "    \n",
    "    return Integral_Array\n",
    "\n"
   ]
  },
  {
   "cell_type": "code",
   "execution_count": 15,
   "metadata": {
    "collapsed": true
   },
   "outputs": [],
   "source": [
    "def L_Equilateral_CutThrough(l,k_sum,k1,k2):\n",
    "    \n",
    "    #takes k1, k2 returns the corresponding Integral in 1D form.\n",
    "    \n",
    "    k1 = mp.mpf(1.)*k1\n",
    "    k2 = mp.mpf(1.)*k2\n",
    "    \n",
    "    k3 = mp.mpf(k_sum) - (k1+k2)\n",
    "\n",
    "    Samples = J_Modified(l,l,l,k1.flatten(),k2.flatten(),k3.flatten())\n",
    "    \n",
    "    #now k1,k2,k3 are matrices.\n",
    "\n",
    "    return Samples\n",
    "\n"
   ]
  },
  {
   "cell_type": "code",
   "execution_count": 21,
   "metadata": {
    "collapsed": true
   },
   "outputs": [],
   "source": [
    "beta_initial = np.linspace(0.0001,0.999,400) # np.linspace(0,1,30) for standard accuracy\n",
    "alpha_initial = np.linspace(-1,1,400) \n",
    "\n",
    "AlphaArray, BetaArray = np.meshgrid(alpha_initial,beta_initial)\n",
    "\n"
   ]
  },
  {
   "cell_type": "code",
   "execution_count": 17,
   "metadata": {
    "collapsed": true
   },
   "outputs": [],
   "source": [
    "XMax = 400.    #XMax = 1000. for standard accuracy\n",
    "XSteps = 4000  #XSteps = 10000 for standard accuracy\n",
    "Stepwidth = XMax/XSteps\n",
    "x = np.arange(0,XMax,Stepwidth)\n",
    "\n",
    "\n",
    "\n",
    "def Int_G_Num(alpha,beta,l,x_sample = np.arange(0,1000,10000),Valueonly = True):\n",
    "    \n",
    "    a = np.array(1-beta)\n",
    "    b = np.array((1+alpha+beta)/2.)\n",
    "    c = np.array((1-alpha + beta)/2.)\n",
    "    \n",
    "    BesA = Bessel(np.tensordot(a,x_sample,0),l)\n",
    "    BesB = Bessel(np.tensordot(b,x_sample,0),l)\n",
    "    BesC = Bessel(np.tensordot(c,x_sample,0),l)\n",
    "    \n",
    "    Stepwidth = x_sample[3]-x_sample[2] #assuming linearly spaced x\n",
    "\n",
    "\n",
    "    if (Valueonly == True):\n",
    "        return Stepwidth*((x**2).dot((BesA*BesB*BesC).transpose()))\n",
    "    \n",
    "    return Stepwidth*((x**2).dot((BesA*BesB*BesC).transpose()))#,x_sample,x_sample**2*BesA*BesB*BesC\n",
    "\n",
    "\n"
   ]
  },
  {
   "cell_type": "code",
   "execution_count": 18,
   "metadata": {},
   "outputs": [
    {
     "name": "stdout",
     "output_type": "stream",
     "text": [
      "40050 400\n",
      "ALMOST DONE\n"
     ]
    }
   ],
   "source": [
    "shape = AlphaArray.shape\n",
    "    \n",
    "alpha_array = AlphaArray.flatten()\n",
    "beta_array = BetaArray.flatten()\n",
    "    \n",
    "    #start = time.time()\n",
    "Indices  = ReduceArrays(alpha_array,beta_array)\n",
    "    #end = time.time()\n",
    "    \n",
    "    #print(end-start) #takes about 3ms\n",
    "    \n",
    "    \n",
    "red_alpha_array = alpha_array[Indices]\n",
    "red_beta_array = beta_array[Indices]\n",
    "print(len(red_alpha_array),len(AlphaArray))\n",
    "Integral_Array = Int_G_Num(red_alpha_array,red_beta_array,7,x)\n",
    "\n",
    "\n",
    "\n",
    "    \n",
    "Values = np.zeros(len(alpha_array))\n",
    "    \n",
    "Values[Indices] = Integral_Array #this one overwrites the zeros with the actual values at the right position.\n",
    "    \n",
    "Values = Values.reshape(shape)\n",
    "np.save(\"DataDreieckMashgridNumerical_7\",Values)"
   ]
  },
  {
   "cell_type": "code",
   "execution_count": 37,
   "metadata": {},
   "outputs": [
    {
     "name": "stdout",
     "output_type": "stream",
     "text": [
      "82\n",
      "\n"
     ]
    }
   ],
   "source": [
    "l_arr = [82]\n",
    "\n",
    "for L in l_arr:\n",
    "    Data = Int_G_Meshgrid(AlphaArray,BetaArray,L,L,L).astype(float)\n",
    "    np.save(\"DataDreieckMashgrid{:}\".format(L),Data)\n",
    "    print(L)\n",
    "    print()\n",
    "    "
   ]
  },
  {
   "cell_type": "code",
   "execution_count": 18,
   "metadata": {},
   "outputs": [],
   "source": [
    "\n",
    "Data = Int_G_Meshgrid(AlphaArray,BetaArray,20,10,10).astype(float)"
   ]
  },
  {
   "cell_type": "code",
   "execution_count": 19,
   "metadata": {
    "collapsed": true
   },
   "outputs": [],
   "source": [
    "np.save(\"DataDreieckMashgrid_20_10_10\",Data)\n"
   ]
  },
  {
   "cell_type": "code",
   "execution_count": 22,
   "metadata": {},
   "outputs": [],
   "source": [
    "Data = Int_G_Meshgrid(AlphaArray,BetaArray,6,12,10).astype(float)"
   ]
  },
  {
   "cell_type": "code",
   "execution_count": 23,
   "metadata": {
    "collapsed": true
   },
   "outputs": [],
   "source": [
    "np.save(\"DataDreieckMashgrid_6_12_10\",Data)\n"
   ]
  },
  {
   "cell_type": "code",
   "execution_count": 89,
   "metadata": {},
   "outputs": [
    {
     "name": "stdout",
     "output_type": "stream",
     "text": [
      "Ugh,Lightsaber??\n"
     ]
    }
   ],
   "source": [
    "print(\"Ugh,Lightsaber??\")\n",
    "\n",
    "Data = Int_G_Meshgrid(AlphaArray,BetaArray,2,30,30).astype(float)"
   ]
  },
  {
   "cell_type": "code",
   "execution_count": 90,
   "metadata": {
    "collapsed": true
   },
   "outputs": [],
   "source": [
    "np.save(\"DataDreieckMashgrid_2_30_30\",Data)\n",
    "np.save(\"AlphaDreieckMashgrid_2_30_30\",AlphaArray)\n",
    "np.save(\"BetaDreieckMashgrid_2_30_30\",BetaArray)"
   ]
  },
  {
   "cell_type": "code",
   "execution_count": 92,
   "metadata": {},
   "outputs": [
    {
     "name": "stdout",
     "output_type": "stream",
     "text": [
      "YOU NEED A LIFESAVER\n"
     ]
    }
   ],
   "source": [
    "print(\"YOU NEED A LIFESAVER\")\n",
    "\n",
    "Data = Int_G_Meshgrid(AlphaArray,BetaArray,2,40,40).astype(float)"
   ]
  },
  {
   "cell_type": "code",
   "execution_count": 93,
   "metadata": {
    "collapsed": true
   },
   "outputs": [],
   "source": [
    "np.save(\"DataDreieckMashgrid_2_40_40\",Data) #might have saved wrong data here....\n",
    "np.save(\"AlphaDreieckMashgrid_2_40_40\",AlphaArray)\n",
    "np.save(\"BetaDreieckMashgrid_2_40_40\",BetaArray)"
   ]
  },
  {
   "cell_type": "code",
   "execution_count": 21,
   "metadata": {},
   "outputs": [
    {
     "name": "stdout",
     "output_type": "stream",
     "text": [
      "(40495,)\n"
     ]
    }
   ],
   "source": [
    "n = 323564\n",
    "\n",
    "AlphaArray = AlphaArray.reshape(n) #because these plot routines only accept 2D arrays.\n",
    "BetaArray = BetaArray.reshape(n)\n",
    "Data = Data.reshape(n)"
   ]
  },
  {
   "cell_type": "code",
   "execution_count": 57,
   "metadata": {},
   "outputs": [
    {
     "name": "stdout",
     "output_type": "stream",
     "text": [
      "(200, 200)\n"
     ]
    },
    {
     "data": {
      "image/png": "[encoded data removed]",
      "text/plain": [
       "<matplotlib.figure.Figure at 0x2562d0b3588>"
      ]
     },
     "metadata": {},
     "output_type": "display_data"
    }
   ],
   "source": [
    "\n",
    "X = AlphaArray\n",
    "Y = BetaArray\n",
    "Z = Data.astype(float)\n",
    "print(Z.shape)\n",
    "plt.pcolormesh(X,Y,Z)\n",
    "plt.colorbar()\n",
    "\n",
    "plt.show()"
   ]
  },
  {
   "cell_type": "code",
   "execution_count": 114,
   "metadata": {
    "collapsed": true
   },
   "outputs": [],
   "source": [
    "Samplecoordinates = []\n",
    "xvector = np.array([0,1])\n",
    "yvector = np.array([np.sqrt(3),-1])/2\n",
    "Samplecoordinates = (np.tensordot(xvector,k1.flatten(),0)+np.tensordot(yvector,(k_sum/2-k2.flatten()),0))\n",
    "\n",
    "Ones = np.ones(len(Samplecoordinates[0])).reshape(sample_points[0],sample_points[1])\n",
    "yCoordinates = Samplecoordinates[0].reshape(sample_points[0],sample_points[1])\n",
    "xCoordinates = Samplecoordinates[1].reshape(sample_points[0],sample_points[1])"
   ]
  },
  {
   "cell_type": "code",
   "execution_count": 37,
   "metadata": {},
   "outputs": [
    {
     "data": {
      "image/png": "[encoded data removed]",
      "text/plain": [
       "<matplotlib.figure.Figure at 0x1f643dd19b0>"
      ]
     },
     "metadata": {},
     "output_type": "display_data"
    }
   ],
   "source": [
    "#plt.semilogx(Flattened_k_list,Flattened_vals)\n",
    "plt.semilogx(Equilateral_k_list,Equilateral_vals)\n",
    "plt.show()"
   ]
  },
  {
   "cell_type": "code",
   "execution_count": 18,
   "metadata": {},
   "outputs": [
    {
     "ename": "NameError",
     "evalue": "name 'lList' is not defined",
     "output_type": "error",
     "traceback": [
      "\u001b[1;31m---------------------------------------------------------------------------\u001b[0m",
      "\u001b[1;31mNameError\u001b[0m                                 Traceback (most recent call last)",
      "\u001b[1;32m<ipython-input-18-e05e531be212>\u001b[0m in \u001b[0;36m<module>\u001b[1;34m()\u001b[0m\n\u001b[0;32m      1\u001b[0m \u001b[1;33m\u001b[0m\u001b[0m\n\u001b[1;32m----> 2\u001b[1;33m \u001b[0mplt\u001b[0m\u001b[1;33m.\u001b[0m\u001b[0mplot\u001b[0m\u001b[1;33m(\u001b[0m\u001b[0mlList\u001b[0m\u001b[1;33m,\u001b[0m \u001b[0mAmplitude\u001b[0m\u001b[1;33m)\u001b[0m\u001b[1;33m\u001b[0m\u001b[0m\n\u001b[0m\u001b[0;32m      3\u001b[0m \u001b[1;31m#plt.plot(lList)\u001b[0m\u001b[1;33m\u001b[0m\u001b[1;33m\u001b[0m\u001b[0m\n\u001b[0;32m      4\u001b[0m \u001b[0mplt\u001b[0m\u001b[1;33m.\u001b[0m\u001b[0mxlabel\u001b[0m\u001b[1;33m(\u001b[0m\u001b[1;34mr\"$\\ell$\"\u001b[0m\u001b[1;33m,\u001b[0m\u001b[0mfontsize\u001b[0m \u001b[1;33m=\u001b[0m \u001b[1;36m14\u001b[0m\u001b[1;33m)\u001b[0m\u001b[1;33m\u001b[0m\u001b[0m\n\u001b[0;32m      5\u001b[0m \u001b[0mplt\u001b[0m\u001b[1;33m.\u001b[0m\u001b[0mylabel\u001b[0m\u001b[1;33m(\u001b[0m\u001b[1;34mr\"Amplitude A\"\u001b[0m\u001b[1;33m,\u001b[0m\u001b[0mfontsize\u001b[0m \u001b[1;33m=\u001b[0m \u001b[1;36m14\u001b[0m\u001b[1;33m)\u001b[0m\u001b[1;33m\u001b[0m\u001b[0m\n",
      "\u001b[1;31mNameError\u001b[0m: name 'lList' is not defined"
     ]
    }
   ],
   "source": [
    "\n",
    "plt.plot(lList, Amplitude)\n",
    "#plt.plot(lList)\n",
    "plt.xlabel(r\"$\\ell$\",fontsize = 14)\n",
    "plt.ylabel(r\"Amplitude A\",fontsize = 14)\n",
    "plt.ylim(0,0.6)\n",
    "\n",
    "plt.show()"
   ]
  },
  {
   "cell_type": "code",
   "execution_count": 17,
   "metadata": {
    "collapsed": true
   },
   "outputs": [],
   "source": [
    "def J(l,k1,k2,k3):\n",
    "    \n",
    "    if (Teta(k1,k2,k3) == 0):\n",
    "        \n",
    "        return 0\n",
    "    \n",
    "    mu = (k1**2+k2**2-k3**2)/(2*k1*k2)\n",
    "\n",
    "    \n",
    "    prefactor = Teta(k1,k2,k3)*np.pi/(2*k1*k2*k3**(l+1))\n",
    "\n",
    "    \n",
    "    Lsum = 0\n",
    "    if(l%2 == 0):\n",
    "        Lower = l//2\n",
    "        \n",
    "    else:\n",
    "        Lower = l//2+1\n",
    "\n",
    "    \n",
    "    for L in range(Lower,3*l//2+1):\n",
    "        \n",
    "        Mult = Q(l,L,k1,l,k2,l)\n",
    "        \n",
    "\n",
    "        \n",
    "        Lsum += Mult*sp.special.eval_legendre(L,mu)\n",
    "\n",
    "\n",
    "\n",
    "    \n",
    "    return prefactor * Lsum\n",
    "\n"
   ]
  },
  {
   "cell_type": "code",
   "execution_count": 23,
   "metadata": {
    "collapsed": true
   },
   "outputs": [],
   "source": [
    "def Q(l3,L,k1,l1,k2,l2):\n",
    "    \n",
    "    if(Triangle(l2,l1,l3)==0): \n",
    "                \n",
    "        return 0\n",
    "\n",
    "    \n",
    "    a_pre,b_pre = E(l2,l1,l3)\n",
    "    prefactor = (-1)**(int((l3-l1+l2)/2))*(2*L+1)*a_pre/2\n",
    "\n",
    "    \n",
    "    \n",
    "    #Sumarray = [] #here I add the terms of the sum in the form A * (10**6)**B\n",
    "    #Not Finished Yet. Must Fix.\n",
    "    Qsum = 0\n",
    "    for j in range(abs(L-l2),l3-abs(L-l1)+1,2):\n",
    "\n",
    "        \n",
    "        a_sum1, b_sum1 =  E(l1,L,l3-j) #\n",
    "        a_sum2, b_sum2 =  E(l2,L,j) #\n",
    "\n",
    "\n",
    "        \n",
    "        \n",
    "        Q_part =(-1)**j*k1**(l3-j)*k2**j/(a_sum1*a_sum2)\n",
    "\n",
    "        Qsum += Q_part*(10**6)**(b_pre-b_sum2-b_sum1)\n",
    "        \n",
    "\n",
    "        \n",
    "        \n",
    "        \n",
    "        #if(E(l2,L,j) == 0):\n",
    "    \n",
    "\n",
    "    \n",
    "    \n",
    "    return prefactor*Qsum\n",
    "\n"
   ]
  },
  {
   "cell_type": "code",
   "execution_count": 24,
   "metadata": {
    "collapsed": true
   },
   "outputs": [],
   "source": [
    "#%timeit AlphaArray*AlphaArray*AlphaArray\n"
   ]
  },
  {
   "cell_type": "code",
   "execution_count": 25,
   "metadata": {},
   "outputs": [
    {
     "ename": "NameError",
     "evalue": "name 'TimeMeasures' is not defined",
     "output_type": "error",
     "traceback": [
      "\u001b[1;31m---------------------------------------------------------------------------\u001b[0m",
      "\u001b[1;31mNameError\u001b[0m                                 Traceback (most recent call last)",
      "\u001b[1;32m<ipython-input-25-a7fce726b6af>\u001b[0m in \u001b[0;36m<module>\u001b[1;34m()\u001b[0m\n\u001b[0;32m      1\u001b[0m \u001b[1;31m#%timeit(Int_G_Num(AlphaArray,BetaArray,6,x))\u001b[0m\u001b[1;33m\u001b[0m\u001b[1;33m\u001b[0m\u001b[0m\n\u001b[0;32m      2\u001b[0m \u001b[1;33m\u001b[0m\u001b[0m\n\u001b[1;32m----> 3\u001b[1;33m \u001b[0mget_ipython\u001b[0m\u001b[1;33m(\u001b[0m\u001b[1;33m)\u001b[0m\u001b[1;33m.\u001b[0m\u001b[0mmagic\u001b[0m\u001b[1;33m(\u001b[0m\u001b[1;34m'timeit Int_G(AlphaArray,BetaArray,100) # takes 3 minutes 35seconds per run, only 3min 01 s if vectorized'\u001b[0m\u001b[1;33m)\u001b[0m\u001b[1;33m\u001b[0m\u001b[0m\n\u001b[0m\u001b[0;32m      4\u001b[0m \u001b[0mget_ipython\u001b[0m\u001b[1;33m(\u001b[0m\u001b[1;33m)\u001b[0m\u001b[1;33m.\u001b[0m\u001b[0mmagic\u001b[0m\u001b[1;33m(\u001b[0m\u001b[1;34m'timeit Int_G_Num(AlphaArray,BetaArray,100,x) #takes 1minute 13 seconds per run with quite low accuracy.'\u001b[0m\u001b[1;33m)\u001b[0m\u001b[1;33m\u001b[0m\u001b[0m\n",
      "\u001b[1;32mC:\\Users\\robin\\Anaconda3\\lib\\site-packages\\IPython\\core\\interactiveshell.py\u001b[0m in \u001b[0;36mmagic\u001b[1;34m(self, arg_s)\u001b[0m\n\u001b[0;32m   2156\u001b[0m         \u001b[0mmagic_name\u001b[0m\u001b[1;33m,\u001b[0m \u001b[0m_\u001b[0m\u001b[1;33m,\u001b[0m \u001b[0mmagic_arg_s\u001b[0m \u001b[1;33m=\u001b[0m \u001b[0marg_s\u001b[0m\u001b[1;33m.\u001b[0m\u001b[0mpartition\u001b[0m\u001b[1;33m(\u001b[0m\u001b[1;34m' '\u001b[0m\u001b[1;33m)\u001b[0m\u001b[1;33m\u001b[0m\u001b[0m\n\u001b[0;32m   2157\u001b[0m         \u001b[0mmagic_name\u001b[0m \u001b[1;33m=\u001b[0m \u001b[0mmagic_name\u001b[0m\u001b[1;33m.\u001b[0m\u001b[0mlstrip\u001b[0m\u001b[1;33m(\u001b[0m\u001b[0mprefilter\u001b[0m\u001b[1;33m.\u001b[0m\u001b[0mESC_MAGIC\u001b[0m\u001b[1;33m)\u001b[0m\u001b[1;33m\u001b[0m\u001b[0m\n\u001b[1;32m-> 2158\u001b[1;33m         \u001b[1;32mreturn\u001b[0m \u001b[0mself\u001b[0m\u001b[1;33m.\u001b[0m\u001b[0mrun_line_magic\u001b[0m\u001b[1;33m(\u001b[0m\u001b[0mmagic_name\u001b[0m\u001b[1;33m,\u001b[0m \u001b[0mmagic_arg_s\u001b[0m\u001b[1;33m)\u001b[0m\u001b[1;33m\u001b[0m\u001b[0m\n\u001b[0m\u001b[0;32m   2159\u001b[0m \u001b[1;33m\u001b[0m\u001b[0m\n\u001b[0;32m   2160\u001b[0m     \u001b[1;31m#-------------------------------------------------------------------------\u001b[0m\u001b[1;33m\u001b[0m\u001b[1;33m\u001b[0m\u001b[0m\n",
      "\u001b[1;32mC:\\Users\\robin\\Anaconda3\\lib\\site-packages\\IPython\\core\\interactiveshell.py\u001b[0m in \u001b[0;36mrun_line_magic\u001b[1;34m(self, magic_name, line)\u001b[0m\n\u001b[0;32m   2077\u001b[0m                 \u001b[0mkwargs\u001b[0m\u001b[1;33m[\u001b[0m\u001b[1;34m'local_ns'\u001b[0m\u001b[1;33m]\u001b[0m \u001b[1;33m=\u001b[0m \u001b[0msys\u001b[0m\u001b[1;33m.\u001b[0m\u001b[0m_getframe\u001b[0m\u001b[1;33m(\u001b[0m\u001b[0mstack_depth\u001b[0m\u001b[1;33m)\u001b[0m\u001b[1;33m.\u001b[0m\u001b[0mf_locals\u001b[0m\u001b[1;33m\u001b[0m\u001b[0m\n\u001b[0;32m   2078\u001b[0m             \u001b[1;32mwith\u001b[0m \u001b[0mself\u001b[0m\u001b[1;33m.\u001b[0m\u001b[0mbuiltin_trap\u001b[0m\u001b[1;33m:\u001b[0m\u001b[1;33m\u001b[0m\u001b[0m\n\u001b[1;32m-> 2079\u001b[1;33m                 \u001b[0mresult\u001b[0m \u001b[1;33m=\u001b[0m \u001b[0mfn\u001b[0m\u001b[1;33m(\u001b[0m\u001b[1;33m*\u001b[0m\u001b[0margs\u001b[0m\u001b[1;33m,\u001b[0m\u001b[1;33m**\u001b[0m\u001b[0mkwargs\u001b[0m\u001b[1;33m)\u001b[0m\u001b[1;33m\u001b[0m\u001b[0m\n\u001b[0m\u001b[0;32m   2080\u001b[0m             \u001b[1;32mreturn\u001b[0m \u001b[0mresult\u001b[0m\u001b[1;33m\u001b[0m\u001b[0m\n\u001b[0;32m   2081\u001b[0m \u001b[1;33m\u001b[0m\u001b[0m\n",
      "\u001b[1;32m<decorator-gen-59>\u001b[0m in \u001b[0;36mtimeit\u001b[1;34m(self, line, cell)\u001b[0m\n",
      "\u001b[1;32mC:\\Users\\robin\\Anaconda3\\lib\\site-packages\\IPython\\core\\magic.py\u001b[0m in \u001b[0;36m<lambda>\u001b[1;34m(f, *a, **k)\u001b[0m\n\u001b[0;32m    186\u001b[0m     \u001b[1;31m# but it's overkill for just that one bit of state.\u001b[0m\u001b[1;33m\u001b[0m\u001b[1;33m\u001b[0m\u001b[0m\n\u001b[0;32m    187\u001b[0m     \u001b[1;32mdef\u001b[0m \u001b[0mmagic_deco\u001b[0m\u001b[1;33m(\u001b[0m\u001b[0marg\u001b[0m\u001b[1;33m)\u001b[0m\u001b[1;33m:\u001b[0m\u001b[1;33m\u001b[0m\u001b[0m\n\u001b[1;32m--> 188\u001b[1;33m         \u001b[0mcall\u001b[0m \u001b[1;33m=\u001b[0m \u001b[1;32mlambda\u001b[0m \u001b[0mf\u001b[0m\u001b[1;33m,\u001b[0m \u001b[1;33m*\u001b[0m\u001b[0ma\u001b[0m\u001b[1;33m,\u001b[0m \u001b[1;33m**\u001b[0m\u001b[0mk\u001b[0m\u001b[1;33m:\u001b[0m \u001b[0mf\u001b[0m\u001b[1;33m(\u001b[0m\u001b[1;33m*\u001b[0m\u001b[0ma\u001b[0m\u001b[1;33m,\u001b[0m \u001b[1;33m**\u001b[0m\u001b[0mk\u001b[0m\u001b[1;33m)\u001b[0m\u001b[1;33m\u001b[0m\u001b[0m\n\u001b[0m\u001b[0;32m    189\u001b[0m \u001b[1;33m\u001b[0m\u001b[0m\n\u001b[0;32m    190\u001b[0m         \u001b[1;32mif\u001b[0m \u001b[0mcallable\u001b[0m\u001b[1;33m(\u001b[0m\u001b[0marg\u001b[0m\u001b[1;33m)\u001b[0m\u001b[1;33m:\u001b[0m\u001b[1;33m\u001b[0m\u001b[0m\n",
      "\u001b[1;32mC:\\Users\\robin\\Anaconda3\\lib\\site-packages\\IPython\\core\\magics\\execution.py\u001b[0m in \u001b[0;36mtimeit\u001b[1;34m(self, line, cell)\u001b[0m\n\u001b[0;32m   1047\u001b[0m             \u001b[0mnumber\u001b[0m \u001b[1;33m=\u001b[0m \u001b[1;36m1\u001b[0m\u001b[1;33m\u001b[0m\u001b[0m\n\u001b[0;32m   1048\u001b[0m             \u001b[1;32mfor\u001b[0m \u001b[0m_\u001b[0m \u001b[1;32min\u001b[0m \u001b[0mrange\u001b[0m\u001b[1;33m(\u001b[0m\u001b[1;36m1\u001b[0m\u001b[1;33m,\u001b[0m \u001b[1;36m10\u001b[0m\u001b[1;33m)\u001b[0m\u001b[1;33m:\u001b[0m\u001b[1;33m\u001b[0m\u001b[0m\n\u001b[1;32m-> 1049\u001b[1;33m                 \u001b[0mtime_number\u001b[0m \u001b[1;33m=\u001b[0m \u001b[0mtimer\u001b[0m\u001b[1;33m.\u001b[0m\u001b[0mtimeit\u001b[0m\u001b[1;33m(\u001b[0m\u001b[0mnumber\u001b[0m\u001b[1;33m)\u001b[0m\u001b[1;33m\u001b[0m\u001b[0m\n\u001b[0m\u001b[0;32m   1050\u001b[0m                 \u001b[0mworst_tuning\u001b[0m \u001b[1;33m=\u001b[0m \u001b[0mmax\u001b[0m\u001b[1;33m(\u001b[0m\u001b[0mworst_tuning\u001b[0m\u001b[1;33m,\u001b[0m \u001b[0mtime_number\u001b[0m \u001b[1;33m/\u001b[0m \u001b[0mnumber\u001b[0m\u001b[1;33m)\u001b[0m\u001b[1;33m\u001b[0m\u001b[0m\n\u001b[0;32m   1051\u001b[0m                 \u001b[1;32mif\u001b[0m \u001b[0mtime_number\u001b[0m \u001b[1;33m>=\u001b[0m \u001b[1;36m0.2\u001b[0m\u001b[1;33m:\u001b[0m\u001b[1;33m\u001b[0m\u001b[0m\n",
      "\u001b[1;32mC:\\Users\\robin\\Anaconda3\\lib\\site-packages\\IPython\\core\\magics\\execution.py\u001b[0m in \u001b[0;36mtimeit\u001b[1;34m(self, number)\u001b[0m\n\u001b[0;32m    137\u001b[0m         \u001b[0mgc\u001b[0m\u001b[1;33m.\u001b[0m\u001b[0mdisable\u001b[0m\u001b[1;33m(\u001b[0m\u001b[1;33m)\u001b[0m\u001b[1;33m\u001b[0m\u001b[0m\n\u001b[0;32m    138\u001b[0m         \u001b[1;32mtry\u001b[0m\u001b[1;33m:\u001b[0m\u001b[1;33m\u001b[0m\u001b[0m\n\u001b[1;32m--> 139\u001b[1;33m             \u001b[0mtiming\u001b[0m \u001b[1;33m=\u001b[0m \u001b[0mself\u001b[0m\u001b[1;33m.\u001b[0m\u001b[0minner\u001b[0m\u001b[1;33m(\u001b[0m\u001b[0mit\u001b[0m\u001b[1;33m,\u001b[0m \u001b[0mself\u001b[0m\u001b[1;33m.\u001b[0m\u001b[0mtimer\u001b[0m\u001b[1;33m)\u001b[0m\u001b[1;33m\u001b[0m\u001b[0m\n\u001b[0m\u001b[0;32m    140\u001b[0m         \u001b[1;32mfinally\u001b[0m\u001b[1;33m:\u001b[0m\u001b[1;33m\u001b[0m\u001b[0m\n\u001b[0;32m    141\u001b[0m             \u001b[1;32mif\u001b[0m \u001b[0mgcold\u001b[0m\u001b[1;33m:\u001b[0m\u001b[1;33m\u001b[0m\u001b[0m\n",
      "\u001b[1;32m<magic-timeit>\u001b[0m in \u001b[0;36minner\u001b[1;34m(_it, _timer)\u001b[0m\n",
      "\u001b[1;32m<ipython-input-19-99d69165692f>\u001b[0m in \u001b[0;36mInt_G\u001b[1;34m(alpha_array, beta_array, l)\u001b[0m\n\u001b[0;32m     10\u001b[0m \u001b[1;33m\u001b[0m\u001b[0m\n\u001b[0;32m     11\u001b[0m \u001b[1;33m\u001b[0m\u001b[0m\n\u001b[1;32m---> 12\u001b[1;33m     \u001b[1;32mreturn\u001b[0m \u001b[0mJ_Modified\u001b[0m\u001b[1;33m(\u001b[0m\u001b[0ml\u001b[0m\u001b[1;33m,\u001b[0m\u001b[0ml\u001b[0m\u001b[1;33m,\u001b[0m\u001b[0ml\u001b[0m\u001b[1;33m,\u001b[0m\u001b[0ma_arr\u001b[0m\u001b[1;33m,\u001b[0m\u001b[0mb_arr\u001b[0m\u001b[1;33m,\u001b[0m\u001b[0mc_arr\u001b[0m\u001b[1;33m)\u001b[0m\u001b[1;33m\u001b[0m\u001b[0m\n\u001b[0m",
      "\u001b[1;32m<ipython-input-10-22ca52dc66f7>\u001b[0m in \u001b[0;36mJ_Modified\u001b[1;34m(l1, l2, l3, k1, k2, k3)\u001b[0m\n\u001b[0;32m     25\u001b[0m     \u001b[1;32mfor\u001b[0m \u001b[0mL\u001b[0m \u001b[1;32min\u001b[0m \u001b[0mrange\u001b[0m\u001b[1;33m(\u001b[0m\u001b[0mLower\u001b[0m\u001b[1;33m,\u001b[0m\u001b[1;33m(\u001b[0m\u001b[0ml1\u001b[0m\u001b[1;33m+\u001b[0m\u001b[0ml2\u001b[0m\u001b[1;33m+\u001b[0m\u001b[0ml3\u001b[0m\u001b[1;33m)\u001b[0m\u001b[1;33m//\u001b[0m\u001b[1;36m2\u001b[0m\u001b[1;33m+\u001b[0m\u001b[1;36m1\u001b[0m\u001b[1;33m)\u001b[0m\u001b[1;33m:\u001b[0m\u001b[1;33m\u001b[0m\u001b[0m\n\u001b[0;32m     26\u001b[0m \u001b[1;33m\u001b[0m\u001b[0m\n\u001b[1;32m---> 27\u001b[1;33m         \u001b[0mMult\u001b[0m \u001b[1;33m=\u001b[0m \u001b[0mQ_Modified\u001b[0m\u001b[1;33m(\u001b[0m\u001b[0ml3\u001b[0m\u001b[1;33m,\u001b[0m\u001b[0mL\u001b[0m\u001b[1;33m,\u001b[0m\u001b[0mk1\u001b[0m\u001b[1;33m,\u001b[0m\u001b[0ml1\u001b[0m\u001b[1;33m,\u001b[0m\u001b[0mk2\u001b[0m\u001b[1;33m,\u001b[0m\u001b[0ml2\u001b[0m\u001b[1;33m)\u001b[0m\u001b[1;33m\u001b[0m\u001b[0m\n\u001b[0m\u001b[0;32m     28\u001b[0m \u001b[1;33m\u001b[0m\u001b[0m\n\u001b[0;32m     29\u001b[0m         \u001b[1;31m#unfortunately, mp.legendre doesnt accept arrays as arguments :-(\u001b[0m\u001b[1;33m\u001b[0m\u001b[1;33m\u001b[0m\u001b[0m\n",
      "\u001b[1;32m<ipython-input-8-26c58bf26eff>\u001b[0m in \u001b[0;36mQ_Modified\u001b[1;34m(l3, L, k1, l1, k2, l2)\u001b[0m\n\u001b[0;32m     34\u001b[0m \u001b[1;33m\u001b[0m\u001b[0m\n\u001b[0;32m     35\u001b[0m \u001b[1;33m\u001b[0m\u001b[0m\n\u001b[1;32m---> 36\u001b[1;33m     \u001b[0mTimeMeasures\u001b[0m\u001b[1;33m.\u001b[0m\u001b[0mappend\u001b[0m\u001b[1;33m(\u001b[0m\u001b[0mend\u001b[0m\u001b[1;33m-\u001b[0m\u001b[0mstart\u001b[0m\u001b[1;33m)\u001b[0m\u001b[1;33m\u001b[0m\u001b[0m\n\u001b[0m\u001b[0;32m     37\u001b[0m \u001b[1;33m\u001b[0m\u001b[0m\n\u001b[0;32m     38\u001b[0m \u001b[1;33m\u001b[0m\u001b[0m\n",
      "\u001b[1;31mNameError\u001b[0m: name 'TimeMeasures' is not defined"
     ]
    }
   ],
   "source": [
    "#%timeit(Int_G_Num(AlphaArray,BetaArray,6,x))\n",
    "\n",
    "%timeit Int_G(AlphaArray,BetaArray,100) # takes 3 minutes 35seconds per run, only 3min 01 s if vectorized\n",
    "%timeit Int_G_Num(AlphaArray,BetaArray,100,x) #takes 1minute 13 seconds per run with quite low accuracy.\n"
   ]
  },
  {
   "cell_type": "code",
   "execution_count": 26,
   "metadata": {},
   "outputs": [
    {
     "ename": "NameError",
     "evalue": "name 'TimeMeasures' is not defined",
     "output_type": "error",
     "traceback": [
      "\u001b[1;31m---------------------------------------------------------------------------\u001b[0m",
      "\u001b[1;31mNameError\u001b[0m                                 Traceback (most recent call last)",
      "\u001b[1;32m<ipython-input-26-72ed109eb0b6>\u001b[0m in \u001b[0;36m<module>\u001b[1;34m()\u001b[0m\n\u001b[0;32m     13\u001b[0m     \u001b[0mmp\u001b[0m\u001b[1;33m.\u001b[0m\u001b[0mdps\u001b[0m \u001b[1;33m=\u001b[0m \u001b[1;36m100\u001b[0m\u001b[1;33m\u001b[0m\u001b[0m\n\u001b[0;32m     14\u001b[0m     \u001b[0mstart\u001b[0m \u001b[1;33m=\u001b[0m \u001b[0mtime\u001b[0m\u001b[1;33m.\u001b[0m\u001b[0mtime\u001b[0m\u001b[1;33m(\u001b[0m\u001b[1;33m)\u001b[0m\u001b[1;33m\u001b[0m\u001b[0m\n\u001b[1;32m---> 15\u001b[1;33m     \u001b[0mInt_G\u001b[0m\u001b[1;33m(\u001b[0m\u001b[0mAlphaArray\u001b[0m\u001b[1;33m[\u001b[0m\u001b[1;33m:\u001b[0m\u001b[1;33m:\u001b[0m\u001b[1;36m30\u001b[0m\u001b[1;33m]\u001b[0m\u001b[1;33m,\u001b[0m\u001b[0mBetaArray\u001b[0m\u001b[1;33m[\u001b[0m\u001b[1;33m:\u001b[0m\u001b[1;33m:\u001b[0m\u001b[1;36m30\u001b[0m\u001b[1;33m]\u001b[0m\u001b[1;33m,\u001b[0m\u001b[0mL\u001b[0m\u001b[1;33m)\u001b[0m\u001b[1;33m\u001b[0m\u001b[0m\n\u001b[0m\u001b[0;32m     16\u001b[0m     \u001b[0mend\u001b[0m \u001b[1;33m=\u001b[0m \u001b[0mtime\u001b[0m\u001b[1;33m.\u001b[0m\u001b[0mtime\u001b[0m\u001b[1;33m(\u001b[0m\u001b[1;33m)\u001b[0m\u001b[1;33m\u001b[0m\u001b[0m\n\u001b[0;32m     17\u001b[0m     \u001b[0mTimeList100\u001b[0m\u001b[1;33m.\u001b[0m\u001b[0mappend\u001b[0m\u001b[1;33m(\u001b[0m\u001b[0mend\u001b[0m\u001b[1;33m-\u001b[0m\u001b[0mstart\u001b[0m\u001b[1;33m)\u001b[0m\u001b[1;33m\u001b[0m\u001b[0m\n",
      "\u001b[1;32m<ipython-input-19-99d69165692f>\u001b[0m in \u001b[0;36mInt_G\u001b[1;34m(alpha_array, beta_array, l)\u001b[0m\n\u001b[0;32m     10\u001b[0m \u001b[1;33m\u001b[0m\u001b[0m\n\u001b[0;32m     11\u001b[0m \u001b[1;33m\u001b[0m\u001b[0m\n\u001b[1;32m---> 12\u001b[1;33m     \u001b[1;32mreturn\u001b[0m \u001b[0mJ_Modified\u001b[0m\u001b[1;33m(\u001b[0m\u001b[0ml\u001b[0m\u001b[1;33m,\u001b[0m\u001b[0ml\u001b[0m\u001b[1;33m,\u001b[0m\u001b[0ml\u001b[0m\u001b[1;33m,\u001b[0m\u001b[0ma_arr\u001b[0m\u001b[1;33m,\u001b[0m\u001b[0mb_arr\u001b[0m\u001b[1;33m,\u001b[0m\u001b[0mc_arr\u001b[0m\u001b[1;33m)\u001b[0m\u001b[1;33m\u001b[0m\u001b[0m\n\u001b[0m",
      "\u001b[1;32m<ipython-input-10-22ca52dc66f7>\u001b[0m in \u001b[0;36mJ_Modified\u001b[1;34m(l1, l2, l3, k1, k2, k3)\u001b[0m\n\u001b[0;32m     25\u001b[0m     \u001b[1;32mfor\u001b[0m \u001b[0mL\u001b[0m \u001b[1;32min\u001b[0m \u001b[0mrange\u001b[0m\u001b[1;33m(\u001b[0m\u001b[0mLower\u001b[0m\u001b[1;33m,\u001b[0m\u001b[1;33m(\u001b[0m\u001b[0ml1\u001b[0m\u001b[1;33m+\u001b[0m\u001b[0ml2\u001b[0m\u001b[1;33m+\u001b[0m\u001b[0ml3\u001b[0m\u001b[1;33m)\u001b[0m\u001b[1;33m//\u001b[0m\u001b[1;36m2\u001b[0m\u001b[1;33m+\u001b[0m\u001b[1;36m1\u001b[0m\u001b[1;33m)\u001b[0m\u001b[1;33m:\u001b[0m\u001b[1;33m\u001b[0m\u001b[0m\n\u001b[0;32m     26\u001b[0m \u001b[1;33m\u001b[0m\u001b[0m\n\u001b[1;32m---> 27\u001b[1;33m         \u001b[0mMult\u001b[0m \u001b[1;33m=\u001b[0m \u001b[0mQ_Modified\u001b[0m\u001b[1;33m(\u001b[0m\u001b[0ml3\u001b[0m\u001b[1;33m,\u001b[0m\u001b[0mL\u001b[0m\u001b[1;33m,\u001b[0m\u001b[0mk1\u001b[0m\u001b[1;33m,\u001b[0m\u001b[0ml1\u001b[0m\u001b[1;33m,\u001b[0m\u001b[0mk2\u001b[0m\u001b[1;33m,\u001b[0m\u001b[0ml2\u001b[0m\u001b[1;33m)\u001b[0m\u001b[1;33m\u001b[0m\u001b[0m\n\u001b[0m\u001b[0;32m     28\u001b[0m \u001b[1;33m\u001b[0m\u001b[0m\n\u001b[0;32m     29\u001b[0m         \u001b[1;31m#unfortunately, mp.legendre doesnt accept arrays as arguments :-(\u001b[0m\u001b[1;33m\u001b[0m\u001b[1;33m\u001b[0m\u001b[0m\n",
      "\u001b[1;32m<ipython-input-8-26c58bf26eff>\u001b[0m in \u001b[0;36mQ_Modified\u001b[1;34m(l3, L, k1, l1, k2, l2)\u001b[0m\n\u001b[0;32m     34\u001b[0m \u001b[1;33m\u001b[0m\u001b[0m\n\u001b[0;32m     35\u001b[0m \u001b[1;33m\u001b[0m\u001b[0m\n\u001b[1;32m---> 36\u001b[1;33m     \u001b[0mTimeMeasures\u001b[0m\u001b[1;33m.\u001b[0m\u001b[0mappend\u001b[0m\u001b[1;33m(\u001b[0m\u001b[0mend\u001b[0m\u001b[1;33m-\u001b[0m\u001b[0mstart\u001b[0m\u001b[1;33m)\u001b[0m\u001b[1;33m\u001b[0m\u001b[0m\n\u001b[0m\u001b[0;32m     37\u001b[0m \u001b[1;33m\u001b[0m\u001b[0m\n\u001b[0;32m     38\u001b[0m \u001b[1;33m\u001b[0m\u001b[0m\n",
      "\u001b[1;31mNameError\u001b[0m: name 'TimeMeasures' is not defined"
     ]
    }
   ],
   "source": [
    "#CREATING RUNTIME PLOT\n",
    "#CREATING RUNTIME PLOT\n",
    "#CREATING RUNTIME PLOT\n",
    "\n",
    "\n",
    "\n",
    "Llist = [2,4,6,8,10,12,14,16,20,24,28,32,36,40,44,48,52,56,64,72,80,88,96,100,110,120,130,140]\n",
    "TimeList100, TimeList200, TimeList500 = [],[],[]\n",
    "TimeList_Num = []\n",
    "\n",
    "for L in Llist:\n",
    "    \n",
    "    mp.dps = 100\n",
    "    start = time.time()\n",
    "    Int_G(AlphaArray[::30],BetaArray[::30],L)\n",
    "    end = time.time()\n",
    "    TimeList100.append(end-start)\n",
    "    \n",
    "    mp.dps = 200\n",
    "    start = time.time()\n",
    "    Int_G(AlphaArray[::30],BetaArray[::30],L)\n",
    "    end = time.time()\n",
    "    TimeList200.append(end-start)\n",
    "    \n",
    "    mp.dps = 500\n",
    "    start = time.time()\n",
    "    Int_G(AlphaArray[::30],BetaArray[::30],L)\n",
    "    end = time.time()\n",
    "    TimeList500.append(end-start)\n",
    "    \n",
    "    \n",
    "    start = time.time()\n",
    "    Int_G_Num(AlphaArray[::30],BetaArray[::30],L,x)\n",
    "    end = time.time()\n",
    "    TimeList_Num.append(end-start)\n",
    "    \n",
    "    print(L)\n",
    "\n"
   ]
  },
  {
   "cell_type": "code",
   "execution_count": 32,
   "metadata": {},
   "outputs": [
    {
     "data": {
      "image/png": "[encoded data removed]",
      "text/plain": [
       "<matplotlib.figure.Figure at 0x21d246f3e80>"
      ]
     },
     "metadata": {},
     "output_type": "display_data"
    }
   ],
   "source": [
    "Grun = mpatches.Patch(label = \"500 digits\",color = \"green\")\n",
    "Red = mpatches.Patch(label = \"200 digits\",color = \"red\")\n",
    "Blau = mpatches.Patch(label = \"100 digits\",color = \"blue\")\n",
    "Ora = mpatches.Patch(label = \"Numerical\",color = \"orange\")\n",
    "plt.plot(Llist,TimeList100,\"blue\")\n",
    "plt.plot(Llist,TimeList200,\"red\")\n",
    "plt.plot(Llist,TimeList500,\"green\")\n",
    "plt.plot(Llist,TimeList_Num,\"orange\")\n",
    "plt.xlabel(r\"$\\ell$\",fontsize = 16)\n",
    "plt.ylabel(\"time in s\",fontsize = 14)\n",
    "\n",
    "plt.text(0,16,\"Number of Alpha values: {:}\".format(len(AlphaArray[::30])),fontsize = 12)\n",
    "plt.text(0,12,\"Using 10.000 integral points\",fontsize = 12)\n",
    "\n",
    "plt.legend(handles = [Grun,Red,Blau,Ora])\n",
    "\n",
    "##plt.savefig(\"Runtime_comparison_digits.pdf\",format = \"pdf\")\n",
    "plt.show()\n"
   ]
  },
  {
   "cell_type": "code",
   "execution_count": 17,
   "metadata": {},
   "outputs": [
    {
     "name": "stdout",
     "output_type": "stream",
     "text": [
      "The slowest run took 12.15 times longer than the fastest. This could mean that an intermediate result is being cached.\n",
      "100000 loops, best of 3: 3.58 µs per loop\n",
      "The slowest run took 4.40 times longer than the fastest. This could mean that an intermediate result is being cached.\n",
      "100000 loops, best of 3: 3.64 µs per loop\n"
     ]
    }
   ],
   "source": [
    "#testcell\n",
    "\n",
    "a = np.array([1,2,3.4,5.2,7,9,0,564,0]).reshape(9,1)\n",
    "b = np.array([2,3,5,6,8,89,9])\n",
    "\n",
    "\n",
    "%timeit np.power(a,b)\n",
    "\n",
    "%timeit a**b"
   ]
  },
  {
   "cell_type": "code",
   "execution_count": 18,
   "metadata": {},
   "outputs": [
    {
     "ename": "TypeError",
     "evalue": "return arrays must be of ArrayType",
     "output_type": "error",
     "traceback": [
      "\u001b[1;31m---------------------------------------------------------------------------\u001b[0m",
      "\u001b[1;31mTypeError\u001b[0m                                 Traceback (most recent call last)",
      "\u001b[1;32m<ipython-input-18-da2efe0bb168>\u001b[0m in \u001b[0;36m<module>\u001b[1;34m()\u001b[0m\n\u001b[0;32m      3\u001b[0m     \u001b[1;32mreturn\u001b[0m \u001b[0mnp\u001b[0m\u001b[1;33m.\u001b[0m\u001b[0mpower\u001b[0m\u001b[1;33m(\u001b[0m\u001b[0mx\u001b[0m\u001b[1;33m,\u001b[0m\u001b[0mnp\u001b[0m\u001b[1;33m.\u001b[0m\u001b[0marray\u001b[0m\u001b[1;33m(\u001b[0m\u001b[1;33m[\u001b[0m\u001b[1;36m2\u001b[0m\u001b[1;33m,\u001b[0m\u001b[1;36m3\u001b[0m\u001b[1;33m]\u001b[0m\u001b[1;33m)\u001b[0m\u001b[1;33m,\u001b[0m\u001b[1;36m1\u001b[0m\u001b[1;33m)\u001b[0m\u001b[1;33m\u001b[0m\u001b[0m\n\u001b[0;32m      4\u001b[0m \u001b[1;33m\u001b[0m\u001b[0m\n\u001b[1;32m----> 5\u001b[1;33m \u001b[0mpower\u001b[0m\u001b[1;33m(\u001b[0m\u001b[0mnp\u001b[0m\u001b[1;33m.\u001b[0m\u001b[0marray\u001b[0m\u001b[1;33m(\u001b[0m\u001b[1;33m[\u001b[0m\u001b[1;36m2\u001b[0m\u001b[1;33m,\u001b[0m\u001b[1;36m3\u001b[0m\u001b[1;33m,\u001b[0m\u001b[1;36m9\u001b[0m\u001b[1;33m]\u001b[0m\u001b[1;33m)\u001b[0m\u001b[1;33m)\u001b[0m\u001b[1;33m\u001b[0m\u001b[0m\n\u001b[0m",
      "\u001b[1;32m<ipython-input-18-da2efe0bb168>\u001b[0m in \u001b[0;36mpower\u001b[1;34m(x)\u001b[0m\n\u001b[0;32m      1\u001b[0m \u001b[1;32mdef\u001b[0m \u001b[0mpower\u001b[0m\u001b[1;33m(\u001b[0m\u001b[0mx\u001b[0m\u001b[1;33m)\u001b[0m\u001b[1;33m:\u001b[0m\u001b[1;33m\u001b[0m\u001b[0m\n\u001b[0;32m      2\u001b[0m \u001b[1;33m\u001b[0m\u001b[0m\n\u001b[1;32m----> 3\u001b[1;33m     \u001b[1;32mreturn\u001b[0m \u001b[0mnp\u001b[0m\u001b[1;33m.\u001b[0m\u001b[0mpower\u001b[0m\u001b[1;33m(\u001b[0m\u001b[0mx\u001b[0m\u001b[1;33m,\u001b[0m\u001b[0mnp\u001b[0m\u001b[1;33m.\u001b[0m\u001b[0marray\u001b[0m\u001b[1;33m(\u001b[0m\u001b[1;33m[\u001b[0m\u001b[1;36m2\u001b[0m\u001b[1;33m,\u001b[0m\u001b[1;36m3\u001b[0m\u001b[1;33m]\u001b[0m\u001b[1;33m)\u001b[0m\u001b[1;33m,\u001b[0m\u001b[1;36m1\u001b[0m\u001b[1;33m)\u001b[0m\u001b[1;33m\u001b[0m\u001b[0m\n\u001b[0m\u001b[0;32m      4\u001b[0m \u001b[1;33m\u001b[0m\u001b[0m\n\u001b[0;32m      5\u001b[0m \u001b[0mpower\u001b[0m\u001b[1;33m(\u001b[0m\u001b[0mnp\u001b[0m\u001b[1;33m.\u001b[0m\u001b[0marray\u001b[0m\u001b[1;33m(\u001b[0m\u001b[1;33m[\u001b[0m\u001b[1;36m2\u001b[0m\u001b[1;33m,\u001b[0m\u001b[1;36m3\u001b[0m\u001b[1;33m,\u001b[0m\u001b[1;36m9\u001b[0m\u001b[1;33m]\u001b[0m\u001b[1;33m)\u001b[0m\u001b[1;33m)\u001b[0m\u001b[1;33m\u001b[0m\u001b[0m\n",
      "\u001b[1;31mTypeError\u001b[0m: return arrays must be of ArrayType"
     ]
    }
   ],
   "source": [
    "def power(x):\n",
    "    \n",
    "    return np.power(x,np.array([2,3]),1)\n",
    "\n",
    "power(np.array([2,3,9]))"
   ]
  },
  {
   "cell_type": "code",
   "execution_count": 159,
   "metadata": {},
   "outputs": [
    {
     "data": {
      "text/plain": [
       "array([mpf('-7854.7671106769080487283221120111064437983482961959063239109210755586162020133348909541019034789444228510033471268583311624186480957214632590233344628033672430125013159184410548356939194451124263223673525')],\n",
       "      dtype=object)"
      ]
     },
     "execution_count": 159,
     "metadata": {},
     "output_type": "execute_result"
    }
   ],
   "source": [
    "Int_G(np.array([-0.9999]),np.array([0.0001]),6)\n",
    "\n",
    "\n",
    "\n",
    "\n",
    "\n",
    "\n",
    "\n"
   ]
  },
  {
   "cell_type": "code",
   "execution_count": null,
   "metadata": {
    "collapsed": true
   },
   "outputs": [],
   "source": []
  }
 ],
 "metadata": {
  "kernelspec": {
   "display_name": "Python 3",
   "language": "python",
   "name": "python3"
  },
  "language_info": {
   "codemirror_mode": {
    "name": "ipython",
    "version": 3
   },
   "file_extension": ".py",
   "mimetype": "text/x-python",
   "name": "python",
   "nbconvert_exporter": "python",
   "pygments_lexer": "ipython3",
   "version": "3.6.1"
  }
 },
 "nbformat": 4,
 "nbformat_minor": 2
}
